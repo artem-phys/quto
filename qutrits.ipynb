{
  "cells": [
    {
      "cell_type": "markdown",
      "metadata": {
        "id": "q3A9i-t-Yh40"
      },
      "source": [
        "# Qutrits for portfolio optimization\n"
      ]
    },
    {
      "cell_type": "code",
      "execution_count": 57,
      "metadata": {
        "id": "rcumAjn-WtLu",
        "colab": {
          "base_uri": "https://localhost:8080/"
        },
        "outputId": "db5642a7-53db-4f47-ec5a-245e36b5d540"
      },
      "outputs": [
        {
          "output_type": "stream",
          "name": "stdout",
          "text": [
            "Drive already mounted at /content/drive; to attempt to forcibly remount, call drive.mount(\"/content/drive\", force_remount=True).\n"
          ]
        }
      ],
      "source": [
        "from google.colab import drive\n",
        "drive.mount('/content/drive')"
      ]
    },
    {
      "cell_type": "code",
      "execution_count": 58,
      "metadata": {
        "id": "fpfwDawdXmj9"
      },
      "outputs": [],
      "source": [
        "!pip install cirq --quiet\n",
        "!pip install yfinance --quiet"
      ]
    },
    {
      "cell_type": "code",
      "execution_count": 206,
      "metadata": {
        "id": "chFeXzRFXj79"
      },
      "outputs": [],
      "source": [
        "import numpy as np\n",
        "import sympy\n",
        "import matplotlib.pyplot as plt\n",
        "from scipy.optimize import minimize\n",
        "%matplotlib inline\n",
        "\n",
        "from tqdm import tqdm\n",
        "\n",
        "import cirq\n",
        "from cirq.circuits import InsertStrategy\n",
        "from cirq.contrib.svg import SVGCircuit\n",
        "from cirq import PauliSum"
      ]
    },
    {
      "cell_type": "code",
      "execution_count": 60,
      "metadata": {
        "id": "-hV5LqdUUyo1",
        "colab": {
          "base_uri": "https://localhost:8080/"
        },
        "outputId": "6d361285-c62d-4b40-d319-9274b9be2d1f"
      },
      "outputs": [
        {
          "output_type": "stream",
          "name": "stdout",
          "text": [
            "/content/drive/MyDrive/RQC_Tasks/Qudits/qudits-vqc\n"
          ]
        }
      ],
      "source": [
        "%cd /content/drive/MyDrive/RQC_Tasks/Qudits/qudits-vqc\n",
        "\n",
        "from qudit_depolarization_channels import *\n",
        "from qudit_gates import *"
      ]
    },
    {
      "cell_type": "code",
      "execution_count": 61,
      "metadata": {
        "id": "IYlC1iTXte8p"
      },
      "outputs": [],
      "source": [
        "import sympy\n",
        "import numpy as np\n",
        "import pandas as pd\n",
        "from matplotlib import pyplot as plt\n",
        "\n",
        "from scipy.optimize import minimize\n",
        "\n",
        "import yfinance as yf\n",
        "\n",
        "import cirq\n",
        "from cirq.circuits import InsertStrategy\n",
        "from cirq.contrib.svg import SVGCircuit"
      ]
    },
    {
      "cell_type": "code",
      "execution_count": 62,
      "metadata": {
        "id": "FSnrTIqaTuMU"
      },
      "outputs": [],
      "source": [
        "import logging\n",
        "logging.getLogger('matplotlib').setLevel(logging.ERROR) # remove annoying SVGCircuit warnings"
      ]
    },
    {
      "cell_type": "markdown",
      "metadata": {
        "id": "7IUKONuvApZy"
      },
      "source": [
        "# Classical financial optimization"
      ]
    },
    {
      "cell_type": "code",
      "execution_count": 177,
      "metadata": {
        "id": "0HqDGXRTwYD2",
        "colab": {
          "base_uri": "https://localhost:8080/",
          "height": 360
        },
        "outputId": "0741b73e-0b1e-41c2-ecde-f61703931bf4"
      },
      "outputs": [
        {
          "output_type": "stream",
          "name": "stdout",
          "text": [
            "[*********************100%***********************]  4 of 4 completed\n"
          ]
        },
        {
          "output_type": "execute_result",
          "data": {
            "text/plain": [
              "            Adj Close                                          Close  \\\n",
              "                 GOOG         IBM        META         TEL       GOOG   \n",
              "Date                                                                   \n",
              "2021-01-04  86.412003  104.750328  268.940002  116.209740  86.412003   \n",
              "2021-01-05  87.045998  106.609718  270.970001  118.441185  87.045998   \n",
              "2021-01-06  86.764503  109.272003  263.309998  121.841507  86.764503   \n",
              "2021-01-07  89.362503  109.018448  268.739990  124.285500  89.362503   \n",
              "2021-01-08  90.360497  108.629669  267.570007  126.033958  90.360497   \n",
              "\n",
              "                                                     High              ...  \\\n",
              "                   IBM        META         TEL       GOOG         IBM  ...   \n",
              "Date                                                                   ...   \n",
              "2021-01-04  118.489487  268.940002  120.300003  88.032501  120.382408  ...   \n",
              "2021-01-05  120.592735  270.970001  122.610001  87.383499  121.108986  ...   \n",
              "2021-01-06  123.604210  263.309998  126.129997  87.400002  126.080307  ...   \n",
              "2021-01-07  123.317398  268.739990  128.660004  89.419998  124.722755  ...   \n",
              "2021-01-08  122.877632  267.570007  130.470001  90.491997  123.632889  ...   \n",
              "\n",
              "                   Low                   Open                          \\\n",
              "                  META         TEL       GOOG         IBM        META   \n",
              "Date                                                                    \n",
              "2021-01-04  265.200012  118.980003  87.876999  120.315491  274.779999   \n",
              "2021-01-05  268.209991  120.389999  86.250000  119.512428  268.290009   \n",
              "2021-01-06  260.010010  124.449997  85.131500  121.319313  262.000000   \n",
              "2021-01-07  264.779999  126.800003  87.002998  124.321220  265.899994   \n",
              "2021-01-08  263.179993  128.240005  89.399002  122.915871  268.309998   \n",
              "\n",
              "                          Volume                              \n",
              "                   TEL      GOOG      IBM      META      TEL  \n",
              "Date                                                          \n",
              "2021-01-04  121.190002  38038000  5417443  15106100  1386500  \n",
              "2021-01-05  120.669998  22906000  6395872   9871600  1191400  \n",
              "2021-01-06  125.000000  52042000  8322708  24354100  2306100  \n",
              "2021-01-07  127.160004  45300000  4714740  15789800  1875000  \n",
              "2021-01-08  129.889999  41012000  4891305  18528300  2301300  \n",
              "\n",
              "[5 rows x 24 columns]"
            ],
            "text/html": [
              "\n",
              "  <div id=\"df-afbaeb1e-f536-426e-9059-3a99d3500d4f\">\n",
              "    <div class=\"colab-df-container\">\n",
              "      <div>\n",
              "<style scoped>\n",
              "    .dataframe tbody tr th:only-of-type {\n",
              "        vertical-align: middle;\n",
              "    }\n",
              "\n",
              "    .dataframe tbody tr th {\n",
              "        vertical-align: top;\n",
              "    }\n",
              "\n",
              "    .dataframe thead tr th {\n",
              "        text-align: left;\n",
              "    }\n",
              "\n",
              "    .dataframe thead tr:last-of-type th {\n",
              "        text-align: right;\n",
              "    }\n",
              "</style>\n",
              "<table border=\"1\" class=\"dataframe\">\n",
              "  <thead>\n",
              "    <tr>\n",
              "      <th></th>\n",
              "      <th colspan=\"4\" halign=\"left\">Adj Close</th>\n",
              "      <th colspan=\"4\" halign=\"left\">Close</th>\n",
              "      <th colspan=\"2\" halign=\"left\">High</th>\n",
              "      <th>...</th>\n",
              "      <th colspan=\"2\" halign=\"left\">Low</th>\n",
              "      <th colspan=\"4\" halign=\"left\">Open</th>\n",
              "      <th colspan=\"4\" halign=\"left\">Volume</th>\n",
              "    </tr>\n",
              "    <tr>\n",
              "      <th></th>\n",
              "      <th>GOOG</th>\n",
              "      <th>IBM</th>\n",
              "      <th>META</th>\n",
              "      <th>TEL</th>\n",
              "      <th>GOOG</th>\n",
              "      <th>IBM</th>\n",
              "      <th>META</th>\n",
              "      <th>TEL</th>\n",
              "      <th>GOOG</th>\n",
              "      <th>IBM</th>\n",
              "      <th>...</th>\n",
              "      <th>META</th>\n",
              "      <th>TEL</th>\n",
              "      <th>GOOG</th>\n",
              "      <th>IBM</th>\n",
              "      <th>META</th>\n",
              "      <th>TEL</th>\n",
              "      <th>GOOG</th>\n",
              "      <th>IBM</th>\n",
              "      <th>META</th>\n",
              "      <th>TEL</th>\n",
              "    </tr>\n",
              "    <tr>\n",
              "      <th>Date</th>\n",
              "      <th></th>\n",
              "      <th></th>\n",
              "      <th></th>\n",
              "      <th></th>\n",
              "      <th></th>\n",
              "      <th></th>\n",
              "      <th></th>\n",
              "      <th></th>\n",
              "      <th></th>\n",
              "      <th></th>\n",
              "      <th></th>\n",
              "      <th></th>\n",
              "      <th></th>\n",
              "      <th></th>\n",
              "      <th></th>\n",
              "      <th></th>\n",
              "      <th></th>\n",
              "      <th></th>\n",
              "      <th></th>\n",
              "      <th></th>\n",
              "      <th></th>\n",
              "    </tr>\n",
              "  </thead>\n",
              "  <tbody>\n",
              "    <tr>\n",
              "      <th>2021-01-04</th>\n",
              "      <td>86.412003</td>\n",
              "      <td>104.750328</td>\n",
              "      <td>268.940002</td>\n",
              "      <td>116.209740</td>\n",
              "      <td>86.412003</td>\n",
              "      <td>118.489487</td>\n",
              "      <td>268.940002</td>\n",
              "      <td>120.300003</td>\n",
              "      <td>88.032501</td>\n",
              "      <td>120.382408</td>\n",
              "      <td>...</td>\n",
              "      <td>265.200012</td>\n",
              "      <td>118.980003</td>\n",
              "      <td>87.876999</td>\n",
              "      <td>120.315491</td>\n",
              "      <td>274.779999</td>\n",
              "      <td>121.190002</td>\n",
              "      <td>38038000</td>\n",
              "      <td>5417443</td>\n",
              "      <td>15106100</td>\n",
              "      <td>1386500</td>\n",
              "    </tr>\n",
              "    <tr>\n",
              "      <th>2021-01-05</th>\n",
              "      <td>87.045998</td>\n",
              "      <td>106.609718</td>\n",
              "      <td>270.970001</td>\n",
              "      <td>118.441185</td>\n",
              "      <td>87.045998</td>\n",
              "      <td>120.592735</td>\n",
              "      <td>270.970001</td>\n",
              "      <td>122.610001</td>\n",
              "      <td>87.383499</td>\n",
              "      <td>121.108986</td>\n",
              "      <td>...</td>\n",
              "      <td>268.209991</td>\n",
              "      <td>120.389999</td>\n",
              "      <td>86.250000</td>\n",
              "      <td>119.512428</td>\n",
              "      <td>268.290009</td>\n",
              "      <td>120.669998</td>\n",
              "      <td>22906000</td>\n",
              "      <td>6395872</td>\n",
              "      <td>9871600</td>\n",
              "      <td>1191400</td>\n",
              "    </tr>\n",
              "    <tr>\n",
              "      <th>2021-01-06</th>\n",
              "      <td>86.764503</td>\n",
              "      <td>109.272003</td>\n",
              "      <td>263.309998</td>\n",
              "      <td>121.841507</td>\n",
              "      <td>86.764503</td>\n",
              "      <td>123.604210</td>\n",
              "      <td>263.309998</td>\n",
              "      <td>126.129997</td>\n",
              "      <td>87.400002</td>\n",
              "      <td>126.080307</td>\n",
              "      <td>...</td>\n",
              "      <td>260.010010</td>\n",
              "      <td>124.449997</td>\n",
              "      <td>85.131500</td>\n",
              "      <td>121.319313</td>\n",
              "      <td>262.000000</td>\n",
              "      <td>125.000000</td>\n",
              "      <td>52042000</td>\n",
              "      <td>8322708</td>\n",
              "      <td>24354100</td>\n",
              "      <td>2306100</td>\n",
              "    </tr>\n",
              "    <tr>\n",
              "      <th>2021-01-07</th>\n",
              "      <td>89.362503</td>\n",
              "      <td>109.018448</td>\n",
              "      <td>268.739990</td>\n",
              "      <td>124.285500</td>\n",
              "      <td>89.362503</td>\n",
              "      <td>123.317398</td>\n",
              "      <td>268.739990</td>\n",
              "      <td>128.660004</td>\n",
              "      <td>89.419998</td>\n",
              "      <td>124.722755</td>\n",
              "      <td>...</td>\n",
              "      <td>264.779999</td>\n",
              "      <td>126.800003</td>\n",
              "      <td>87.002998</td>\n",
              "      <td>124.321220</td>\n",
              "      <td>265.899994</td>\n",
              "      <td>127.160004</td>\n",
              "      <td>45300000</td>\n",
              "      <td>4714740</td>\n",
              "      <td>15789800</td>\n",
              "      <td>1875000</td>\n",
              "    </tr>\n",
              "    <tr>\n",
              "      <th>2021-01-08</th>\n",
              "      <td>90.360497</td>\n",
              "      <td>108.629669</td>\n",
              "      <td>267.570007</td>\n",
              "      <td>126.033958</td>\n",
              "      <td>90.360497</td>\n",
              "      <td>122.877632</td>\n",
              "      <td>267.570007</td>\n",
              "      <td>130.470001</td>\n",
              "      <td>90.491997</td>\n",
              "      <td>123.632889</td>\n",
              "      <td>...</td>\n",
              "      <td>263.179993</td>\n",
              "      <td>128.240005</td>\n",
              "      <td>89.399002</td>\n",
              "      <td>122.915871</td>\n",
              "      <td>268.309998</td>\n",
              "      <td>129.889999</td>\n",
              "      <td>41012000</td>\n",
              "      <td>4891305</td>\n",
              "      <td>18528300</td>\n",
              "      <td>2301300</td>\n",
              "    </tr>\n",
              "  </tbody>\n",
              "</table>\n",
              "<p>5 rows × 24 columns</p>\n",
              "</div>\n",
              "      <button class=\"colab-df-convert\" onclick=\"convertToInteractive('df-afbaeb1e-f536-426e-9059-3a99d3500d4f')\"\n",
              "              title=\"Convert this dataframe to an interactive table.\"\n",
              "              style=\"display:none;\">\n",
              "        \n",
              "  <svg xmlns=\"http://www.w3.org/2000/svg\" height=\"24px\"viewBox=\"0 0 24 24\"\n",
              "       width=\"24px\">\n",
              "    <path d=\"M0 0h24v24H0V0z\" fill=\"none\"/>\n",
              "    <path d=\"M18.56 5.44l.94 2.06.94-2.06 2.06-.94-2.06-.94-.94-2.06-.94 2.06-2.06.94zm-11 1L8.5 8.5l.94-2.06 2.06-.94-2.06-.94L8.5 2.5l-.94 2.06-2.06.94zm10 10l.94 2.06.94-2.06 2.06-.94-2.06-.94-.94-2.06-.94 2.06-2.06.94z\"/><path d=\"M17.41 7.96l-1.37-1.37c-.4-.4-.92-.59-1.43-.59-.52 0-1.04.2-1.43.59L10.3 9.45l-7.72 7.72c-.78.78-.78 2.05 0 2.83L4 21.41c.39.39.9.59 1.41.59.51 0 1.02-.2 1.41-.59l7.78-7.78 2.81-2.81c.8-.78.8-2.07 0-2.86zM5.41 20L4 18.59l7.72-7.72 1.47 1.35L5.41 20z\"/>\n",
              "  </svg>\n",
              "      </button>\n",
              "      \n",
              "  <style>\n",
              "    .colab-df-container {\n",
              "      display:flex;\n",
              "      flex-wrap:wrap;\n",
              "      gap: 12px;\n",
              "    }\n",
              "\n",
              "    .colab-df-convert {\n",
              "      background-color: #E8F0FE;\n",
              "      border: none;\n",
              "      border-radius: 50%;\n",
              "      cursor: pointer;\n",
              "      display: none;\n",
              "      fill: #1967D2;\n",
              "      height: 32px;\n",
              "      padding: 0 0 0 0;\n",
              "      width: 32px;\n",
              "    }\n",
              "\n",
              "    .colab-df-convert:hover {\n",
              "      background-color: #E2EBFA;\n",
              "      box-shadow: 0px 1px 2px rgba(60, 64, 67, 0.3), 0px 1px 3px 1px rgba(60, 64, 67, 0.15);\n",
              "      fill: #174EA6;\n",
              "    }\n",
              "\n",
              "    [theme=dark] .colab-df-convert {\n",
              "      background-color: #3B4455;\n",
              "      fill: #D2E3FC;\n",
              "    }\n",
              "\n",
              "    [theme=dark] .colab-df-convert:hover {\n",
              "      background-color: #434B5C;\n",
              "      box-shadow: 0px 1px 3px 1px rgba(0, 0, 0, 0.15);\n",
              "      filter: drop-shadow(0px 1px 2px rgba(0, 0, 0, 0.3));\n",
              "      fill: #FFFFFF;\n",
              "    }\n",
              "  </style>\n",
              "\n",
              "      <script>\n",
              "        const buttonEl =\n",
              "          document.querySelector('#df-afbaeb1e-f536-426e-9059-3a99d3500d4f button.colab-df-convert');\n",
              "        buttonEl.style.display =\n",
              "          google.colab.kernel.accessAllowed ? 'block' : 'none';\n",
              "\n",
              "        async function convertToInteractive(key) {\n",
              "          const element = document.querySelector('#df-afbaeb1e-f536-426e-9059-3a99d3500d4f');\n",
              "          const dataTable =\n",
              "            await google.colab.kernel.invokeFunction('convertToInteractive',\n",
              "                                                     [key], {});\n",
              "          if (!dataTable) return;\n",
              "\n",
              "          const docLinkHtml = 'Like what you see? Visit the ' +\n",
              "            '<a target=\"_blank\" href=https://colab.research.google.com/notebooks/data_table.ipynb>data table notebook</a>'\n",
              "            + ' to learn more about interactive tables.';\n",
              "          element.innerHTML = '';\n",
              "          dataTable['output_type'] = 'display_data';\n",
              "          await google.colab.output.renderOutput(dataTable, element);\n",
              "          const docLink = document.createElement('div');\n",
              "          docLink.innerHTML = docLinkHtml;\n",
              "          element.appendChild(docLink);\n",
              "        }\n",
              "      </script>\n",
              "    </div>\n",
              "  </div>\n",
              "  "
            ]
          },
          "metadata": {},
          "execution_count": 177
        }
      ],
      "source": [
        "tickers = ['IBM', 'TEL', 'META', 'GOOG']\n",
        "N = len(tickers)\n",
        "\n",
        "start_date = '2021-01-01'\n",
        "end_date = '2023-01-01'\n",
        "\n",
        "panel_data = yf.download(tickers, start=start_date, end=end_date)\n",
        "panel_data.head()"
      ]
    },
    {
      "cell_type": "code",
      "execution_count": 178,
      "metadata": {
        "id": "i2Hrv2OP0RaA",
        "colab": {
          "base_uri": "https://localhost:8080/",
          "height": 238
        },
        "outputId": "717fff0a-a3d1-4f8a-e262-b760d9198c88"
      },
      "outputs": [
        {
          "output_type": "execute_result",
          "data": {
            "text/plain": [
              "                GOOG       IBM      META       TEL\n",
              "Date                                              \n",
              "2022-12-23  0.017562  0.005466  0.007855 -0.002451\n",
              "2022-12-27 -0.020933  0.005436 -0.009827 -0.000790\n",
              "2022-12-28 -0.016718 -0.016852 -0.010780 -0.014316\n",
              "2022-12-29  0.028799  0.007427  0.040131  0.030384\n",
              "2022-12-30 -0.002473 -0.001205  0.000665 -0.007264"
            ],
            "text/html": [
              "\n",
              "  <div id=\"df-cedbe061-3347-4175-8be3-d94e9f981f64\">\n",
              "    <div class=\"colab-df-container\">\n",
              "      <div>\n",
              "<style scoped>\n",
              "    .dataframe tbody tr th:only-of-type {\n",
              "        vertical-align: middle;\n",
              "    }\n",
              "\n",
              "    .dataframe tbody tr th {\n",
              "        vertical-align: top;\n",
              "    }\n",
              "\n",
              "    .dataframe thead th {\n",
              "        text-align: right;\n",
              "    }\n",
              "</style>\n",
              "<table border=\"1\" class=\"dataframe\">\n",
              "  <thead>\n",
              "    <tr style=\"text-align: right;\">\n",
              "      <th></th>\n",
              "      <th>GOOG</th>\n",
              "      <th>IBM</th>\n",
              "      <th>META</th>\n",
              "      <th>TEL</th>\n",
              "    </tr>\n",
              "    <tr>\n",
              "      <th>Date</th>\n",
              "      <th></th>\n",
              "      <th></th>\n",
              "      <th></th>\n",
              "      <th></th>\n",
              "    </tr>\n",
              "  </thead>\n",
              "  <tbody>\n",
              "    <tr>\n",
              "      <th>2022-12-23</th>\n",
              "      <td>0.017562</td>\n",
              "      <td>0.005466</td>\n",
              "      <td>0.007855</td>\n",
              "      <td>-0.002451</td>\n",
              "    </tr>\n",
              "    <tr>\n",
              "      <th>2022-12-27</th>\n",
              "      <td>-0.020933</td>\n",
              "      <td>0.005436</td>\n",
              "      <td>-0.009827</td>\n",
              "      <td>-0.000790</td>\n",
              "    </tr>\n",
              "    <tr>\n",
              "      <th>2022-12-28</th>\n",
              "      <td>-0.016718</td>\n",
              "      <td>-0.016852</td>\n",
              "      <td>-0.010780</td>\n",
              "      <td>-0.014316</td>\n",
              "    </tr>\n",
              "    <tr>\n",
              "      <th>2022-12-29</th>\n",
              "      <td>0.028799</td>\n",
              "      <td>0.007427</td>\n",
              "      <td>0.040131</td>\n",
              "      <td>0.030384</td>\n",
              "    </tr>\n",
              "    <tr>\n",
              "      <th>2022-12-30</th>\n",
              "      <td>-0.002473</td>\n",
              "      <td>-0.001205</td>\n",
              "      <td>0.000665</td>\n",
              "      <td>-0.007264</td>\n",
              "    </tr>\n",
              "  </tbody>\n",
              "</table>\n",
              "</div>\n",
              "      <button class=\"colab-df-convert\" onclick=\"convertToInteractive('df-cedbe061-3347-4175-8be3-d94e9f981f64')\"\n",
              "              title=\"Convert this dataframe to an interactive table.\"\n",
              "              style=\"display:none;\">\n",
              "        \n",
              "  <svg xmlns=\"http://www.w3.org/2000/svg\" height=\"24px\"viewBox=\"0 0 24 24\"\n",
              "       width=\"24px\">\n",
              "    <path d=\"M0 0h24v24H0V0z\" fill=\"none\"/>\n",
              "    <path d=\"M18.56 5.44l.94 2.06.94-2.06 2.06-.94-2.06-.94-.94-2.06-.94 2.06-2.06.94zm-11 1L8.5 8.5l.94-2.06 2.06-.94-2.06-.94L8.5 2.5l-.94 2.06-2.06.94zm10 10l.94 2.06.94-2.06 2.06-.94-2.06-.94-.94-2.06-.94 2.06-2.06.94z\"/><path d=\"M17.41 7.96l-1.37-1.37c-.4-.4-.92-.59-1.43-.59-.52 0-1.04.2-1.43.59L10.3 9.45l-7.72 7.72c-.78.78-.78 2.05 0 2.83L4 21.41c.39.39.9.59 1.41.59.51 0 1.02-.2 1.41-.59l7.78-7.78 2.81-2.81c.8-.78.8-2.07 0-2.86zM5.41 20L4 18.59l7.72-7.72 1.47 1.35L5.41 20z\"/>\n",
              "  </svg>\n",
              "      </button>\n",
              "      \n",
              "  <style>\n",
              "    .colab-df-container {\n",
              "      display:flex;\n",
              "      flex-wrap:wrap;\n",
              "      gap: 12px;\n",
              "    }\n",
              "\n",
              "    .colab-df-convert {\n",
              "      background-color: #E8F0FE;\n",
              "      border: none;\n",
              "      border-radius: 50%;\n",
              "      cursor: pointer;\n",
              "      display: none;\n",
              "      fill: #1967D2;\n",
              "      height: 32px;\n",
              "      padding: 0 0 0 0;\n",
              "      width: 32px;\n",
              "    }\n",
              "\n",
              "    .colab-df-convert:hover {\n",
              "      background-color: #E2EBFA;\n",
              "      box-shadow: 0px 1px 2px rgba(60, 64, 67, 0.3), 0px 1px 3px 1px rgba(60, 64, 67, 0.15);\n",
              "      fill: #174EA6;\n",
              "    }\n",
              "\n",
              "    [theme=dark] .colab-df-convert {\n",
              "      background-color: #3B4455;\n",
              "      fill: #D2E3FC;\n",
              "    }\n",
              "\n",
              "    [theme=dark] .colab-df-convert:hover {\n",
              "      background-color: #434B5C;\n",
              "      box-shadow: 0px 1px 3px 1px rgba(0, 0, 0, 0.15);\n",
              "      filter: drop-shadow(0px 1px 2px rgba(0, 0, 0, 0.3));\n",
              "      fill: #FFFFFF;\n",
              "    }\n",
              "  </style>\n",
              "\n",
              "      <script>\n",
              "        const buttonEl =\n",
              "          document.querySelector('#df-cedbe061-3347-4175-8be3-d94e9f981f64 button.colab-df-convert');\n",
              "        buttonEl.style.display =\n",
              "          google.colab.kernel.accessAllowed ? 'block' : 'none';\n",
              "\n",
              "        async function convertToInteractive(key) {\n",
              "          const element = document.querySelector('#df-cedbe061-3347-4175-8be3-d94e9f981f64');\n",
              "          const dataTable =\n",
              "            await google.colab.kernel.invokeFunction('convertToInteractive',\n",
              "                                                     [key], {});\n",
              "          if (!dataTable) return;\n",
              "\n",
              "          const docLinkHtml = 'Like what you see? Visit the ' +\n",
              "            '<a target=\"_blank\" href=https://colab.research.google.com/notebooks/data_table.ipynb>data table notebook</a>'\n",
              "            + ' to learn more about interactive tables.';\n",
              "          element.innerHTML = '';\n",
              "          dataTable['output_type'] = 'display_data';\n",
              "          await google.colab.output.renderOutput(dataTable, element);\n",
              "          const docLink = document.createElement('div');\n",
              "          docLink.innerHTML = docLinkHtml;\n",
              "          element.appendChild(docLink);\n",
              "        }\n",
              "      </script>\n",
              "    </div>\n",
              "  </div>\n",
              "  "
            ]
          },
          "metadata": {},
          "execution_count": 178
        }
      ],
      "source": [
        "data = panel_data['Close'].pct_change()\n",
        "all_weekdays = pd.date_range(start=start_date, end=end_date, freq='B')\n",
        "data.reindex(all_weekdays)\n",
        "data.fillna(method='ffill')\n",
        "\n",
        "data.tail()"
      ]
    },
    {
      "cell_type": "markdown",
      "metadata": {
        "id": "BnVuHFR-vYCp"
      },
      "source": [
        "Вектор средней дневной доходности."
      ]
    },
    {
      "cell_type": "code",
      "execution_count": 179,
      "metadata": {
        "id": "pPTAuotFtapR",
        "colab": {
          "base_uri": "https://localhost:8080/"
        },
        "outputId": "01924b91-0394-446e-d5ca-ad1856b8d117"
      },
      "outputs": [
        {
          "output_type": "execute_result",
          "data": {
            "text/plain": [
              "GOOG    0.000258\n",
              "IBM     0.000457\n",
              "META   -0.001080\n",
              "TEL     0.000076\n",
              "dtype: float64"
            ]
          },
          "metadata": {},
          "execution_count": 179
        }
      ],
      "source": [
        "R = data.mean()\n",
        "R"
      ]
    },
    {
      "cell_type": "markdown",
      "metadata": {
        "id": "8WfWnzZbmZxN"
      },
      "source": [
        "Необходимо построить матрицу дневных ковариаций на данном временном промежутке"
      ]
    },
    {
      "cell_type": "code",
      "execution_count": 180,
      "metadata": {
        "id": "UT_2BrFYtlzY",
        "colab": {
          "base_uri": "https://localhost:8080/",
          "height": 595
        },
        "outputId": "09a826d0-9ef9-4d97-98de-454e9c7016e9"
      },
      "outputs": [
        {
          "output_type": "execute_result",
          "data": {
            "text/plain": [
              "          GOOG       IBM      META       TEL\n",
              "GOOG  0.000413  0.000078  0.000420  0.000231\n",
              "IBM   0.000078  0.000223  0.000066  0.000102\n",
              "META  0.000420  0.000066  0.000995  0.000274\n",
              "TEL   0.000231  0.000102  0.000274  0.000337"
            ],
            "text/html": [
              "\n",
              "  <div id=\"df-51e065a9-356a-4f70-b84d-38697a3132b5\">\n",
              "    <div class=\"colab-df-container\">\n",
              "      <div>\n",
              "<style scoped>\n",
              "    .dataframe tbody tr th:only-of-type {\n",
              "        vertical-align: middle;\n",
              "    }\n",
              "\n",
              "    .dataframe tbody tr th {\n",
              "        vertical-align: top;\n",
              "    }\n",
              "\n",
              "    .dataframe thead th {\n",
              "        text-align: right;\n",
              "    }\n",
              "</style>\n",
              "<table border=\"1\" class=\"dataframe\">\n",
              "  <thead>\n",
              "    <tr style=\"text-align: right;\">\n",
              "      <th></th>\n",
              "      <th>GOOG</th>\n",
              "      <th>IBM</th>\n",
              "      <th>META</th>\n",
              "      <th>TEL</th>\n",
              "    </tr>\n",
              "  </thead>\n",
              "  <tbody>\n",
              "    <tr>\n",
              "      <th>GOOG</th>\n",
              "      <td>0.000413</td>\n",
              "      <td>0.000078</td>\n",
              "      <td>0.000420</td>\n",
              "      <td>0.000231</td>\n",
              "    </tr>\n",
              "    <tr>\n",
              "      <th>IBM</th>\n",
              "      <td>0.000078</td>\n",
              "      <td>0.000223</td>\n",
              "      <td>0.000066</td>\n",
              "      <td>0.000102</td>\n",
              "    </tr>\n",
              "    <tr>\n",
              "      <th>META</th>\n",
              "      <td>0.000420</td>\n",
              "      <td>0.000066</td>\n",
              "      <td>0.000995</td>\n",
              "      <td>0.000274</td>\n",
              "    </tr>\n",
              "    <tr>\n",
              "      <th>TEL</th>\n",
              "      <td>0.000231</td>\n",
              "      <td>0.000102</td>\n",
              "      <td>0.000274</td>\n",
              "      <td>0.000337</td>\n",
              "    </tr>\n",
              "  </tbody>\n",
              "</table>\n",
              "</div>\n",
              "      <button class=\"colab-df-convert\" onclick=\"convertToInteractive('df-51e065a9-356a-4f70-b84d-38697a3132b5')\"\n",
              "              title=\"Convert this dataframe to an interactive table.\"\n",
              "              style=\"display:none;\">\n",
              "        \n",
              "  <svg xmlns=\"http://www.w3.org/2000/svg\" height=\"24px\"viewBox=\"0 0 24 24\"\n",
              "       width=\"24px\">\n",
              "    <path d=\"M0 0h24v24H0V0z\" fill=\"none\"/>\n",
              "    <path d=\"M18.56 5.44l.94 2.06.94-2.06 2.06-.94-2.06-.94-.94-2.06-.94 2.06-2.06.94zm-11 1L8.5 8.5l.94-2.06 2.06-.94-2.06-.94L8.5 2.5l-.94 2.06-2.06.94zm10 10l.94 2.06.94-2.06 2.06-.94-2.06-.94-.94-2.06-.94 2.06-2.06.94z\"/><path d=\"M17.41 7.96l-1.37-1.37c-.4-.4-.92-.59-1.43-.59-.52 0-1.04.2-1.43.59L10.3 9.45l-7.72 7.72c-.78.78-.78 2.05 0 2.83L4 21.41c.39.39.9.59 1.41.59.51 0 1.02-.2 1.41-.59l7.78-7.78 2.81-2.81c.8-.78.8-2.07 0-2.86zM5.41 20L4 18.59l7.72-7.72 1.47 1.35L5.41 20z\"/>\n",
              "  </svg>\n",
              "      </button>\n",
              "      \n",
              "  <style>\n",
              "    .colab-df-container {\n",
              "      display:flex;\n",
              "      flex-wrap:wrap;\n",
              "      gap: 12px;\n",
              "    }\n",
              "\n",
              "    .colab-df-convert {\n",
              "      background-color: #E8F0FE;\n",
              "      border: none;\n",
              "      border-radius: 50%;\n",
              "      cursor: pointer;\n",
              "      display: none;\n",
              "      fill: #1967D2;\n",
              "      height: 32px;\n",
              "      padding: 0 0 0 0;\n",
              "      width: 32px;\n",
              "    }\n",
              "\n",
              "    .colab-df-convert:hover {\n",
              "      background-color: #E2EBFA;\n",
              "      box-shadow: 0px 1px 2px rgba(60, 64, 67, 0.3), 0px 1px 3px 1px rgba(60, 64, 67, 0.15);\n",
              "      fill: #174EA6;\n",
              "    }\n",
              "\n",
              "    [theme=dark] .colab-df-convert {\n",
              "      background-color: #3B4455;\n",
              "      fill: #D2E3FC;\n",
              "    }\n",
              "\n",
              "    [theme=dark] .colab-df-convert:hover {\n",
              "      background-color: #434B5C;\n",
              "      box-shadow: 0px 1px 3px 1px rgba(0, 0, 0, 0.15);\n",
              "      filter: drop-shadow(0px 1px 2px rgba(0, 0, 0, 0.3));\n",
              "      fill: #FFFFFF;\n",
              "    }\n",
              "  </style>\n",
              "\n",
              "      <script>\n",
              "        const buttonEl =\n",
              "          document.querySelector('#df-51e065a9-356a-4f70-b84d-38697a3132b5 button.colab-df-convert');\n",
              "        buttonEl.style.display =\n",
              "          google.colab.kernel.accessAllowed ? 'block' : 'none';\n",
              "\n",
              "        async function convertToInteractive(key) {\n",
              "          const element = document.querySelector('#df-51e065a9-356a-4f70-b84d-38697a3132b5');\n",
              "          const dataTable =\n",
              "            await google.colab.kernel.invokeFunction('convertToInteractive',\n",
              "                                                     [key], {});\n",
              "          if (!dataTable) return;\n",
              "\n",
              "          const docLinkHtml = 'Like what you see? Visit the ' +\n",
              "            '<a target=\"_blank\" href=https://colab.research.google.com/notebooks/data_table.ipynb>data table notebook</a>'\n",
              "            + ' to learn more about interactive tables.';\n",
              "          element.innerHTML = '';\n",
              "          dataTable['output_type'] = 'display_data';\n",
              "          await google.colab.output.renderOutput(dataTable, element);\n",
              "          const docLink = document.createElement('div');\n",
              "          docLink.innerHTML = docLinkHtml;\n",
              "          element.appendChild(docLink);\n",
              "        }\n",
              "      </script>\n",
              "    </div>\n",
              "  </div>\n",
              "  "
            ]
          },
          "metadata": {},
          "execution_count": 180
        },
        {
          "output_type": "display_data",
          "data": {
            "text/plain": [
              "<Figure size 480x480 with 1 Axes>"
            ],
            "image/png": "[encoded data removed]"
          },
          "metadata": {}
        }
      ],
      "source": [
        "cov = data.cov()\n",
        "plt.matshow(cov)\n",
        "cov"
      ]
    },
    {
      "cell_type": "markdown",
      "metadata": {
        "id": "8-Yz1vP4EHeS"
      },
      "source": [
        "### Случайные тернарные портфели\n",
        "\n",
        "Научимся генерировать случайные тернарные портфели - вектора размерности N со значениями -1, 0 и 1"
      ]
    },
    {
      "cell_type": "code",
      "execution_count": 181,
      "metadata": {
        "id": "WNIGlON3GMY4"
      },
      "outputs": [],
      "source": [
        "def randBinPortf():\n",
        "  return np.random.randint(3, size=N)"
      ]
    },
    {
      "cell_type": "markdown",
      "metadata": {
        "id": "FhXNyonYEU9q"
      },
      "source": [
        "Доходность портфеля считаем как скалярное произведение вектора средней дневной доходности на s\n",
        "\n",
        "Риск оценивается первым слагаемым в формуле Марковица\n",
        "\n"
      ]
    },
    {
      "cell_type": "code",
      "execution_count": 182,
      "metadata": {
        "id": "xjmOUjsAwnVp"
      },
      "outputs": [],
      "source": [
        "def dohPortf(s):\n",
        "    return np.matmul(R.values,s)\n",
        "    \n",
        "def riskPortf(s):\n",
        "    return np.matmul(np.matmul(s,cov.values),s)\n",
        "\n",
        "def markovitz_form(s, risk_fear=1):\n",
        "    return riskPortf(s) * risk_fear - dohPortf(s)"
      ]
    },
    {
      "cell_type": "code",
      "execution_count": 183,
      "metadata": {
        "id": "bAw6EcH_uizZ",
        "colab": {
          "base_uri": "https://localhost:8080/"
        },
        "outputId": "bc6d0cde-e910-4512-c39b-af7d906b3a5d"
      },
      "outputs": [
        {
          "output_type": "stream",
          "name": "stdout",
          "text": [
            "-0.001109308036513322\n",
            "0.012350989879503158\n"
          ]
        }
      ],
      "source": [
        "s = randBinPortf()\n",
        "\n",
        "print(dohPortf(s))\n",
        "print(riskPortf(s))"
      ]
    },
    {
      "cell_type": "markdown",
      "metadata": {
        "id": "l7_KRNS_l6FF"
      },
      "source": [
        "### Генерация всех тернарных портфелей\n",
        "\n",
        "Нужно сгенерировать все 3^N возможных тернарных портфелей"
      ]
    },
    {
      "cell_type": "code",
      "execution_count": 184,
      "metadata": {
        "id": "nUOzWoK-K3lk",
        "colab": {
          "base_uri": "https://localhost:8080/"
        },
        "outputId": "b636816d-2824-4c85-897e-7058c9633259"
      },
      "outputs": [
        {
          "output_type": "execute_result",
          "data": {
            "text/plain": [
              "[[-1, -1, -1, -1],\n",
              " [-1, -1, -1, 0],\n",
              " [-1, -1, -1, 1],\n",
              " [-1, -1, 0, -1],\n",
              " [-1, -1, 0, 0],\n",
              " [-1, -1, 0, 1],\n",
              " [-1, -1, 1, -1],\n",
              " [-1, -1, 1, 0],\n",
              " [-1, -1, 1, 1],\n",
              " [-1, 0, -1, -1]]"
            ]
          },
          "metadata": {},
          "execution_count": 184
        }
      ],
      "source": [
        "ternary_strings = [np.base_repr(x,base=3).rjust(N, '0') for x in range(3**N)]\n",
        "\n",
        "ternary_portfolio = [[int(symbol) - 1 for symbol in string] for string in ternary_strings]\n",
        "\n",
        "ternary_portfolio[:10]"
      ]
    },
    {
      "cell_type": "code",
      "execution_count": 185,
      "metadata": {
        "id": "GtJt0xFOQl5k"
      },
      "outputs": [],
      "source": [
        "L = 3 ** N\n",
        "\n",
        "risk = np.zeros(L)\n",
        "doh = np.zeros(L)\n",
        "Q = np.zeros(L)\n",
        "portf = np.zeros((L, N))\n",
        "\n",
        "for i in range(L):\n",
        "\n",
        "  r = ternary_portfolio[i]\n",
        "    \n",
        "  portf[i,:] = r\n",
        "  risk[i] = riskPortf(r)\n",
        "  doh[i] = dohPortf(r)\n",
        "  Q[i] = risk[i] - doh[i]"
      ]
    },
    {
      "cell_type": "code",
      "execution_count": 186,
      "metadata": {
        "id": "wlQEe3RWS43U",
        "colab": {
          "base_uri": "https://localhost:8080/",
          "height": 718
        },
        "outputId": "18dc2eb0-4db4-4481-c17f-4fe68da3de51"
      },
      "outputs": [
        {
          "output_type": "display_data",
          "data": {
            "text/plain": [
              "<Figure size 1000x800 with 1 Axes>"
            ],
            "image/png": "[encoded data removed]"
          },
          "metadata": {}
        }
      ],
      "source": [
        "plt.figure(figsize=(10,8))\n",
        "\n",
        "plt.scatter(risk*100,doh*100,c='gray',marker='.')\n",
        "plt.xlabel('риск, %')\n",
        "plt.ylabel('доходность, %')\n",
        "plt.title(\"Облако портфелей\")\n",
        "plt.grid()\n",
        "\n",
        "minQ = np.argmin(risk-doh)\n",
        "plt.scatter([risk[minQ]*100],[doh[minQ]*100],c='b',marker='o',label='минимальное значение формы Марковица')\n",
        "\n",
        "plt.legend()\n",
        "\n",
        "plt.show()"
      ]
    },
    {
      "cell_type": "markdown",
      "metadata": {
        "id": "FjAoiorc1MHI"
      },
      "source": [
        "# QAOA"
      ]
    },
    {
      "cell_type": "markdown",
      "metadata": {
        "id": "bmoVVgUSpH0c"
      },
      "source": [
        "###Some gates"
      ]
    },
    {
      "cell_type": "markdown",
      "metadata": {
        "id": "HEs9Lsjc39nx"
      },
      "source": [
        "Экспонента этой матрицы\n",
        "\n",
        "1 0 0\n",
        "\n",
        "0 1 0\n",
        "\n",
        "0 0 0"
      ]
    },
    {
      "cell_type": "code",
      "execution_count": 187,
      "metadata": {
        "id": "oQq56IBF3eyM",
        "colab": {
          "base_uri": "https://localhost:8080/"
        },
        "outputId": "7bbec9d3-f0d6-455f-b118-29fe6932c7a6"
      },
      "outputs": [
        {
          "output_type": "execute_result",
          "data": {
            "text/plain": [
              "array([[-1.-0.j,  0.+0.j,  0.+0.j],\n",
              "       [ 0.+0.j, -1.-0.j,  0.+0.j],\n",
              "       [ 0.+0.j,  0.+0.j,  1.+0.j]])"
            ]
          },
          "metadata": {},
          "execution_count": 187
        }
      ],
      "source": [
        "class QuditSigma0Gate(QuditGate):\n",
        "\n",
        "    def __init__(self, l1, l2, theta, dimension=3):\n",
        "        self.l1 = l1\n",
        "        self.l2 = l2\n",
        "        self.theta = theta\n",
        "        super().__init__(dimension=dimension)\n",
        "\n",
        "    def _unitary_(self):\n",
        "        N = self.d\n",
        "        sigma_0 = generalized_sigma(0, self.l1, self.l2, dimension=N)\n",
        "        u = scipy.linalg.expm(-1j * self.theta * sigma_0)\n",
        "\n",
        "        return u\n",
        "\n",
        "    def get_unitary(self):\n",
        "        return self._unitary_()\n",
        "\n",
        "    def _circuit_diagram_info_(self, args):\n",
        "        self.symbol = 'Sigma0'\n",
        "        SUB = str.maketrans(\"0123456789\", \"₀₁₂₃₄₅₆₇₈₉\")\n",
        "        SUP = str.maketrans(\"0123456789\", \"⁰¹²³⁴⁵⁶⁷⁸⁹\")\n",
        "        return f'{self.symbol}{str(self.l1).translate(SUB)}{str(self.l2).translate(SUP)}' + f'({nice_repr(self.theta)})'\n",
        "\n",
        "QuditSigma0Gate(0, 1, np.pi).get_unitary().round(decimals=0)"
      ]
    },
    {
      "cell_type": "code",
      "execution_count": 188,
      "metadata": {
        "id": "Op4AEdvmmDX_"
      },
      "outputs": [],
      "source": [
        "class QuquartDepolarizingChannel(QuditGate):\n",
        "\n",
        "    def __init__(self, p1=None, dimension=3):\n",
        "        super().__init__(dimension=dimension, num_qubits=1)\n",
        "\n",
        "        # Calculation of the parameter p based on average experimental error of single qudit gate\n",
        "        if p1 is None:\n",
        "            f1 = 0.99\n",
        "            self.p1 = (1 - f1)\n",
        "        else:\n",
        "            self.p1 = p1\n",
        "\n",
        "        self.mixture_probabilities = np.ones(self.d ** 2) * self.p1 / (self.d ** 2 - 1)\n",
        "        self.mixture_probabilities[0] = (1 - self.p1)  # identity probability\n",
        "\n",
        "    def _mixture_(self):\n",
        "\n",
        "        x_unitary = QuditGeneralizedXGate(dimension=self.d).get_unitary()\n",
        "        z_unitary = QuditGeneralizedZGate(dimension=self.d).get_unitary()\n",
        "\n",
        "        ps = []\n",
        "        for alpha in range(self.d):\n",
        "            for beta in range(self.d):\n",
        "                op = np.linalg.matrix_power(x_unitary, alpha) @ np.linalg.matrix_power(z_unitary, beta)\n",
        "                ps.append(op)\n",
        "\n",
        "        return tuple(zip(self.mixture_probabilities, ps))\n",
        "\n",
        "    def get_mixture(self):\n",
        "        return self._mixture_()\n",
        "\n",
        "    def _circuit_diagram_info_(self, args):\n",
        "        return f\"Φ(p1={self.p1:.3f})\"\n"
      ]
    },
    {
      "cell_type": "code",
      "execution_count": 189,
      "metadata": {
        "id": "yhm97wIGmP4C"
      },
      "outputs": [],
      "source": [
        "class DoubleQuquartDepolarizingChannel(QuditGate):\n",
        "    def __init__(self, p2=None, dimension=3):\n",
        "        super().__init__(dimension=dimension, num_qubits=2)\n",
        "\n",
        "        # Calculation of the parameter p based on average experimental error of single qudit gate\n",
        "        if p2 is None:\n",
        "            f2 = 0.96\n",
        "            self.p2 = (1 - f2)\n",
        "        else:\n",
        "            self.p2 = p2\n",
        "\n",
        "        self.mixture_probabilities = np.ones(self.d ** 4) * self.p2 / (self.d ** 4 - 1)\n",
        "        self.mixture_probabilities[0] = (1 - self.p2)  # identity probability\n",
        "\n",
        "    def _mixture_(self):\n",
        "        ps = []\n",
        "\n",
        "        x_unitary = QuditGeneralizedXGate(dimension=self.d ** 2).get_unitary()\n",
        "        z_unitary = QuditGeneralizedZGate(dimension=self.d ** 2).get_unitary()\n",
        "\n",
        "        for alpha in range(self.d ** 2):\n",
        "            for beta in range(self.d ** 2):\n",
        "\n",
        "                op = np.linalg.matrix_power(x_unitary, alpha) @ np.linalg.matrix_power(z_unitary, beta)\n",
        "                ps.append(op)\n",
        "\n",
        "        return tuple(zip(self.mixture_probabilities, ps))\n",
        "\n",
        "    def get_mixture(self):\n",
        "        return self._mixture_()\n",
        "\n",
        "    def _circuit_diagram_info_(self, args):\n",
        "        return f\"ΦΦ(p2={self.p2:.3f})\", f\"ΦΦ(p2={self.p2:.3f})\""
      ]
    },
    {
      "cell_type": "markdown",
      "metadata": {
        "id": "Nkq5cFbyr7EI"
      },
      "source": [
        "### QAOA circuit"
      ]
    },
    {
      "cell_type": "code",
      "execution_count": 190,
      "metadata": {
        "id": "iHPIizfm2JTj"
      },
      "outputs": [],
      "source": [
        "cov_matrix = cov.to_numpy()\n",
        "N = len(cov_matrix)\n",
        "\n",
        "qudits = cirq.LineQid.range(N, dimension=3)\n",
        "error_channel = QuquartDepolarizingChannel(dimension=3)\n",
        "double_error_channel = DoubleQuquartDepolarizingChannel(dimension=3)"
      ]
    },
    {
      "cell_type": "code",
      "execution_count": 191,
      "metadata": {
        "id": "nZ1_ESGp2kaf"
      },
      "outputs": [],
      "source": [
        "def initial_layer(noise_activated=False):\n",
        "\n",
        "    theta1 = 2 * np.arccos( (2 / 3) ** 0.5)\n",
        "    theta2 = np.pi / 2\n",
        "    phi = np.pi / 2\n",
        "    \n",
        "    gate = QuditRGate(0, 1, theta1, phi, dimension=3) \n",
        "    gate2 = QuditRGate(0, 2, theta2, phi, dimension=3)\n",
        "\n",
        "    for q in qudits:\n",
        "        yield gate.on(q)\n",
        "        yield gate2.on(q)\n",
        "\n",
        "        if noise_activated:\n",
        "            yield error_channel.on(q)"
      ]
    },
    {
      "cell_type": "code",
      "execution_count": 192,
      "metadata": {
        "id": "vpw0bWcHxdL6",
        "colab": {
          "base_uri": "https://localhost:8080/"
        },
        "outputId": "1e8b7abe-d6bd-4d0b-d388-81a206b8864c"
      },
      "outputs": [
        {
          "output_type": "stream",
          "name": "stdout",
          "text": [
            "{'single': {1: -5}, 'squared_single': {7: 5}, 'mix': {(3, 8): 13}}\n"
          ]
        }
      ],
      "source": [
        "def parse_ising_string(ising_string):\n",
        "    result = {\n",
        "        'single': {},\n",
        "        'squared_single': {},\n",
        "        'mix': {}\n",
        "    }\n",
        "\n",
        "    spl = ising_string.split(' + ')\n",
        "\n",
        "    for elem in spl:\n",
        "        if elem[-2:] == '^2' and elem.count('z') == 1:\n",
        "            k = int(elem[:elem.find('z')])\n",
        "            i = int(elem[-3])\n",
        "            result['squared_single'][i] = k\n",
        "\n",
        "        elif elem.count('z') == 1:\n",
        "            k = int(elem[:elem.find('z')])\n",
        "            i = int(elem[-1])\n",
        "            result['single'][i] = k\n",
        "\n",
        "        elif elem.count('z') == 2:\n",
        "            k = int(elem[:elem.find('z')])\n",
        "\n",
        "            i1 = int(elem[elem.find('z') + 1])\n",
        "            i2 = int(elem[elem.rfind('z') + 1])\n",
        "            \n",
        "            result['mix'][(i1, i2)] = k\n",
        "\n",
        "    return result\n",
        "\n",
        "\n",
        "\n",
        "\n",
        "ising_string = '4z1 + -5z1 + 5z7^2 + 13z3z8'\n",
        "print(parse_ising_string(ising_string))"
      ]
    },
    {
      "cell_type": "code",
      "execution_count": 193,
      "metadata": {
        "id": "-vOLh01S1mCB"
      },
      "outputs": [],
      "source": [
        "def gamma_layer(gamma_value, ising_interacions, noise_activated=False):\n",
        "\n",
        "    for i, val in ising_interacions['single'].items():\n",
        "        q0 = qudits[i]\n",
        "        gate = QuditRGate(0, 1, 2 * gamma_value  * val, 0, dimension=3) \n",
        "        yield gate.on(q0)\n",
        "\n",
        "        if noise_activated:\n",
        "            yield error_channel.on(q0)\n",
        "\n",
        "\n",
        "    for i, val in ising_interacions['squared_single'].items():\n",
        "        q0 = qudits[i]\n",
        "        gate = QuditSigma0Gate(0, 1, 2 * gamma_value  * val)\n",
        "        yield gate.on(q0)\n",
        "\n",
        "        if noise_activated:\n",
        "            yield error_channel.on(q0)\n",
        "        \n",
        "\n",
        "    for ind, val in ising_interacions['mix'].items():  \n",
        "        i, j = ind\n",
        "\n",
        "        q0 = qudits[i]\n",
        "        q1 = qudits[j]\n",
        "\n",
        "        gamma_cost = gamma_value * val\n",
        "        costgate = QuditZZGate(0, 1, gamma_cost, dimension=3)\n",
        "\n",
        "        yield costgate.on(q0, q1)\n",
        "\n",
        "        if noise_activated:\n",
        "            yield double_error_channel.on(q0, q1)"
      ]
    },
    {
      "cell_type": "code",
      "execution_count": 194,
      "metadata": {
        "id": "2i1_3Xdk1nPy"
      },
      "outputs": [],
      "source": [
        "def beta_layer(beta_value, noise_activated=False):\n",
        "\n",
        "    theta1 = round(2 * np.arccos( (2 / 3) ** 0.5), 3)\n",
        "    theta2 =  round(np.pi / 2, 3)\n",
        "    phi =  round(np.pi / 2, 3)\n",
        "\n",
        "    mixgate = QuditRGate(0, 1, theta1 * beta_value, phi, dimension=3) \n",
        "    mixgate2 = QuditRGate(0, 2, theta2 * beta_value, phi, dimension=3) \n",
        "\n",
        "    for q in qudits:\n",
        "         yield mixgate.on(q)\n",
        "    for q in qudits:\n",
        "         yield mixgate2.on(q)\n",
        "    if noise_activated:\n",
        "        for q in qudits:\n",
        "            yield error_channel.on(q)"
      ]
    },
    {
      "cell_type": "code",
      "execution_count": 195,
      "metadata": {
        "id": "o2-h0lcJ3RWy"
      },
      "outputs": [],
      "source": [
        "def qaoa_layer(gamma_value, beta_value, ising_interacions, noise_activated=False):\n",
        "    layer = cirq.Circuit()\n",
        "\n",
        "    # Implement the U(gamma, C) operator.\n",
        "    layer.append(gamma_layer(gamma_value, ising_interacions, noise_activated=noise_activated))\n",
        "\n",
        "    # Implement the U(beta, B) operator.\n",
        "    layer.append(beta_layer(beta_value, noise_activated=noise_activated), strategy=InsertStrategy.NEW_THEN_INLINE)\n",
        "\n",
        "    return layer"
      ]
    },
    {
      "cell_type": "code",
      "execution_count": 196,
      "metadata": {
        "id": "c9__KnMb8qII"
      },
      "outputs": [],
      "source": [
        "def qaoa_circuit(parameters, ising_interacions, noise_activated=False):\n",
        "\n",
        "    N_layers = len(parameters) // 2\n",
        "    qc = cirq.Circuit()\n",
        "\n",
        "    qc.append(initial_layer(noise_activated=noise_activated))\n",
        "\n",
        "    for i in range(N_layers):\n",
        "        gamma_value, beta_value = parameters[2 * i], parameters[2 * i + 1]\n",
        "\n",
        "        layer = qaoa_layer(gamma_value, beta_value, ising_interacions, noise_activated=noise_activated)\n",
        "        qc.append(layer)\n",
        "    \n",
        "    return qc"
      ]
    },
    {
      "cell_type": "markdown",
      "metadata": {
        "id": "h1Q8esNE2hDB"
      },
      "source": [
        "###Try QAOA circuit"
      ]
    },
    {
      "cell_type": "code",
      "execution_count": 197,
      "metadata": {
        "id": "Y5aiJo9Wf4pe"
      },
      "outputs": [],
      "source": [
        "noise_activated = False"
      ]
    },
    {
      "cell_type": "code",
      "execution_count": 198,
      "metadata": {
        "id": "ubjV1yiz1i9n",
        "colab": {
          "base_uri": "https://localhost:8080/",
          "height": 326
        },
        "outputId": "30a729f4-c176-4f8e-b073-c427b9635db5"
      },
      "outputs": [
        {
          "output_type": "stream",
          "name": "stdout",
          "text": [
            "{'single': {0: 4, 2: -5}, 'squared_single': {1: 5}, 'mix': {(0, 1): 13, (2, 3): 2}}\n",
            "\n",
            "\n",
            "\n",
            "\n",
            "\n"
          ]
        },
        {
          "output_type": "execute_result",
          "data": {
            "text/plain": [
              "<cirq.contrib.svg.svg.SVGCircuit at 0x7f8f699dea70>"
            ],
            "image/svg+xml": "<svg xmlns=\"http://www.w3.org/2000/svg\" width=\"989.7717578125\" height=\"200.0\"><line x1=\"42.98236328125\" x2=\"959.7717578125\" y1=\"25.0\" y2=\"25.0\" stroke=\"#1967d2\" stroke-width=\"1\" /><line x1=\"42.98236328125\" x2=\"959.7717578125\" y1=\"75.0\" y2=\"75.0\" stroke=\"#1967d2\" stroke-width=\"1\" /><line x1=\"42.98236328125\" x2=\"959.7717578125\" y1=\"125.0\" y2=\"125.0\" stroke=\"#1967d2\" stroke-width=\"1\" /><line x1=\"42.98236328125\" x2=\"959.7717578125\" y1=\"175.0\" y2=\"175.0\" stroke=\"#1967d2\" stroke-width=\"1\" /><line x1=\"569.88826171875\" x2=\"569.88826171875\" y1=\"25.0\" y2=\"75.0\" stroke=\"black\" stroke-width=\"3\" /><line x1=\"569.88826171875\" x2=\"569.88826171875\" y1=\"125.0\" y2=\"175.0\" stroke=\"black\" stroke-width=\"3\" /><rect x=\"10.0\" y=\"5.0\" width=\"65.9647265625\" height=\"40\" stroke=\"black\" fill=\"white\" stroke-width=\"0\" /><text x=\"42.98236328125\" y=\"25.0\" dominant-baseline=\"middle\" text-anchor=\"middle\" font-size=\"14px\" font-family=\"Arial\">0 (d=3): </text><rect x=\"10.0\" y=\"55.0\" width=\"65.9647265625\" height=\"40\" stroke=\"black\" fill=\"white\" stroke-width=\"0\" /><text x=\"42.98236328125\" y=\"75.0\" dominant-baseline=\"middle\" text-anchor=\"middle\" font-size=\"14px\" font-family=\"Arial\">1 (d=3): </text><rect x=\"10.0\" y=\"105.0\" width=\"65.9647265625\" height=\"40\" stroke=\"black\" fill=\"white\" stroke-width=\"0\" /><text x=\"42.98236328125\" y=\"125.0\" dominant-baseline=\"middle\" text-anchor=\"middle\" font-size=\"14px\" font-family=\"Arial\">2 (d=3): </text><rect x=\"10.0\" y=\"155.0\" width=\"65.9647265625\" height=\"40\" stroke=\"black\" fill=\"white\" stroke-width=\"0\" /><text x=\"42.98236328125\" y=\"175.0\" dominant-baseline=\"middle\" text-anchor=\"middle\" font-size=\"14px\" font-family=\"Arial\">3 (d=3): </text><rect x=\"95.9647265625\" y=\"5.0\" width=\"128.35796875\" height=\"40\" stroke=\"black\" fill=\"white\" stroke-width=\"1\" /><text x=\"160.1437109375\" y=\"25.0\" dominant-baseline=\"middle\" text-anchor=\"middle\" font-size=\"14px\" font-family=\"Arial\">R₀¹(1.231, 1.571)</text><rect x=\"95.9647265625\" y=\"55.0\" width=\"128.35796875\" height=\"40\" stroke=\"black\" fill=\"white\" stroke-width=\"1\" /><text x=\"160.1437109375\" y=\"75.0\" dominant-baseline=\"middle\" text-anchor=\"middle\" font-size=\"14px\" font-family=\"Arial\">R₀¹(1.231, 1.571)</text><rect x=\"95.9647265625\" y=\"105.0\" width=\"128.35796875\" height=\"40\" stroke=\"black\" fill=\"white\" stroke-width=\"1\" /><text x=\"160.1437109375\" y=\"125.0\" dominant-baseline=\"middle\" text-anchor=\"middle\" font-size=\"14px\" font-family=\"Arial\">R₀¹(1.231, 1.571)</text><rect x=\"95.9647265625\" y=\"155.0\" width=\"128.35796875\" height=\"40\" stroke=\"black\" fill=\"white\" stroke-width=\"1\" /><text x=\"160.1437109375\" y=\"175.0\" dominant-baseline=\"middle\" text-anchor=\"middle\" font-size=\"14px\" font-family=\"Arial\">R₀¹(1.231, 1.571)</text><rect x=\"244.32269531249997\" y=\"5.0\" width=\"128.35796875\" height=\"40\" stroke=\"black\" fill=\"white\" stroke-width=\"1\" /><text x=\"308.5016796875\" y=\"25.0\" dominant-baseline=\"middle\" text-anchor=\"middle\" font-size=\"14px\" font-family=\"Arial\">R₀²(1.571, 1.571)</text><rect x=\"244.32269531249997\" y=\"55.0\" width=\"128.35796875\" height=\"40\" stroke=\"black\" fill=\"white\" stroke-width=\"1\" /><text x=\"308.5016796875\" y=\"75.0\" dominant-baseline=\"middle\" text-anchor=\"middle\" font-size=\"14px\" font-family=\"Arial\">R₀²(1.571, 1.571)</text><rect x=\"244.32269531249997\" y=\"105.0\" width=\"128.35796875\" height=\"40\" stroke=\"black\" fill=\"white\" stroke-width=\"1\" /><text x=\"308.5016796875\" y=\"125.0\" dominant-baseline=\"middle\" text-anchor=\"middle\" font-size=\"14px\" font-family=\"Arial\">R₀²(1.571, 1.571)</text><rect x=\"244.32269531249997\" y=\"155.0\" width=\"128.35796875\" height=\"40\" stroke=\"black\" fill=\"white\" stroke-width=\"1\" /><text x=\"308.5016796875\" y=\"175.0\" dominant-baseline=\"middle\" text-anchor=\"middle\" font-size=\"14px\" font-family=\"Arial\">R₀²(1.571, 1.571)</text><rect x=\"392.6806640625\" y=\"5.0\" width=\"115.9091796875\" height=\"40\" stroke=\"black\" fill=\"white\" stroke-width=\"1\" /><text x=\"450.63525390625\" y=\"25.0\" dominant-baseline=\"middle\" text-anchor=\"middle\" font-size=\"14px\" font-family=\"Arial\">R₀¹(8*γ, 0)</text><rect x=\"392.6806640625\" y=\"105.0\" width=\"115.9091796875\" height=\"40\" stroke=\"black\" fill=\"white\" stroke-width=\"1\" /><text x=\"450.63525390625\" y=\"125.0\" dominant-baseline=\"middle\" text-anchor=\"middle\" font-size=\"14px\" font-family=\"Arial\">R₀¹(-10*γ, 0)</text><rect x=\"392.6806640625\" y=\"55.0\" width=\"115.9091796875\" height=\"40\" stroke=\"black\" fill=\"white\" stroke-width=\"1\" /><text x=\"450.63525390625\" y=\"75.0\" dominant-baseline=\"middle\" text-anchor=\"middle\" font-size=\"14px\" font-family=\"Arial\">Sigma0₀¹(10*γ)</text><rect x=\"528.58984375\" y=\"5.0\" width=\"82.59683593750002\" height=\"40\" stroke=\"black\" fill=\"white\" stroke-width=\"1\" /><text x=\"569.88826171875\" y=\"25.0\" dominant-baseline=\"middle\" text-anchor=\"middle\" font-size=\"14px\" font-family=\"Arial\">ZZ₀¹(13*γ)</text><rect x=\"528.58984375\" y=\"55.0\" width=\"82.59683593750002\" height=\"40\" stroke=\"black\" fill=\"white\" stroke-width=\"1\" /><text x=\"569.88826171875\" y=\"75.0\" dominant-baseline=\"middle\" text-anchor=\"middle\" font-size=\"14px\" font-family=\"Arial\">ZZ₀¹(13*γ)</text><rect x=\"528.58984375\" y=\"105.0\" width=\"82.59683593750002\" height=\"40\" stroke=\"black\" fill=\"white\" stroke-width=\"1\" /><text x=\"569.88826171875\" y=\"125.0\" dominant-baseline=\"middle\" text-anchor=\"middle\" font-size=\"14px\" font-family=\"Arial\">ZZ₀¹(2*γ)</text><rect x=\"528.58984375\" y=\"155.0\" width=\"82.59683593750002\" height=\"40\" stroke=\"black\" fill=\"white\" stroke-width=\"1\" /><text x=\"569.88826171875\" y=\"175.0\" dominant-baseline=\"middle\" text-anchor=\"middle\" font-size=\"14px\" font-family=\"Arial\">ZZ₀¹(2*γ)</text><rect x=\"631.1866796875\" y=\"5.0\" width=\"144.2925390625\" height=\"40\" stroke=\"black\" fill=\"white\" stroke-width=\"1\" /><text x=\"703.3329492187501\" y=\"25.0\" dominant-baseline=\"middle\" text-anchor=\"middle\" font-size=\"14px\" font-family=\"Arial\">R₀¹(1.231*β, 1.571)</text><rect x=\"631.1866796875\" y=\"55.0\" width=\"144.2925390625\" height=\"40\" stroke=\"black\" fill=\"white\" stroke-width=\"1\" /><text x=\"703.3329492187501\" y=\"75.0\" dominant-baseline=\"middle\" text-anchor=\"middle\" font-size=\"14px\" font-family=\"Arial\">R₀¹(1.231*β, 1.571)</text><rect x=\"631.1866796875\" y=\"105.0\" width=\"144.2925390625\" height=\"40\" stroke=\"black\" fill=\"white\" stroke-width=\"1\" /><text x=\"703.3329492187501\" y=\"125.0\" dominant-baseline=\"middle\" text-anchor=\"middle\" font-size=\"14px\" font-family=\"Arial\">R₀¹(1.231*β, 1.571)</text><rect x=\"631.1866796875\" y=\"155.0\" width=\"144.2925390625\" height=\"40\" stroke=\"black\" fill=\"white\" stroke-width=\"1\" /><text x=\"703.3329492187501\" y=\"175.0\" dominant-baseline=\"middle\" text-anchor=\"middle\" font-size=\"14px\" font-family=\"Arial\">R₀¹(1.231*β, 1.571)</text><rect x=\"795.47921875\" y=\"5.0\" width=\"144.2925390625\" height=\"40\" stroke=\"black\" fill=\"white\" stroke-width=\"1\" /><text x=\"867.62548828125\" y=\"25.0\" dominant-baseline=\"middle\" text-anchor=\"middle\" font-size=\"14px\" font-family=\"Arial\">R₀²(1.571*β, 1.571)</text><rect x=\"795.47921875\" y=\"55.0\" width=\"144.2925390625\" height=\"40\" stroke=\"black\" fill=\"white\" stroke-width=\"1\" /><text x=\"867.62548828125\" y=\"75.0\" dominant-baseline=\"middle\" text-anchor=\"middle\" font-size=\"14px\" font-family=\"Arial\">R₀²(1.571*β, 1.571)</text><rect x=\"795.47921875\" y=\"105.0\" width=\"144.2925390625\" height=\"40\" stroke=\"black\" fill=\"white\" stroke-width=\"1\" /><text x=\"867.62548828125\" y=\"125.0\" dominant-baseline=\"middle\" text-anchor=\"middle\" font-size=\"14px\" font-family=\"Arial\">R₀²(1.571*β, 1.571)</text><rect x=\"795.47921875\" y=\"155.0\" width=\"144.2925390625\" height=\"40\" stroke=\"black\" fill=\"white\" stroke-width=\"1\" /><text x=\"867.62548828125\" y=\"175.0\" dominant-baseline=\"middle\" text-anchor=\"middle\" font-size=\"14px\" font-family=\"Arial\">R₀²(1.571*β, 1.571)</text></svg>"
          },
          "metadata": {},
          "execution_count": 198
        }
      ],
      "source": [
        "gamma = sympy.Symbol(\"γ\")\n",
        "beta = sympy.Symbol(\"β\")\n",
        "\n",
        "pars = gamma, beta\n",
        "\n",
        "ising_string = '4z0 + -5z2 + 5z1^2 + 13z0z1 + 2z2z3'\n",
        "ising_interacions = parse_ising_string(ising_string)\n",
        "print(ising_interacions)\n",
        "\n",
        "qc = qaoa_circuit(pars, ising_interacions, noise_activated)\n",
        "print('\\n' * 4)\n",
        "SVGCircuit(qc)"
      ]
    },
    {
      "cell_type": "code",
      "execution_count": 199,
      "metadata": {
        "id": "5jDF4W2I-Bgm",
        "colab": {
          "base_uri": "https://localhost:8080/",
          "height": 221
        },
        "outputId": "41701791-1939-4f6a-8d8a-3cbb13e8a1c9"
      },
      "outputs": [
        {
          "output_type": "execute_result",
          "data": {
            "text/plain": [
              "<cirq.contrib.svg.svg.SVGCircuit at 0x7f8f69822200>"
            ],
            "image/svg+xml": "<svg xmlns=\"http://www.w3.org/2000/svg\" width=\"422.6806640625\" height=\"200.0\"><line x1=\"42.98236328125\" x2=\"392.6806640625\" y1=\"25.0\" y2=\"25.0\" stroke=\"#1967d2\" stroke-width=\"1\" /><line x1=\"42.98236328125\" x2=\"392.6806640625\" y1=\"75.0\" y2=\"75.0\" stroke=\"#1967d2\" stroke-width=\"1\" /><line x1=\"42.98236328125\" x2=\"392.6806640625\" y1=\"125.0\" y2=\"125.0\" stroke=\"#1967d2\" stroke-width=\"1\" /><line x1=\"42.98236328125\" x2=\"392.6806640625\" y1=\"175.0\" y2=\"175.0\" stroke=\"#1967d2\" stroke-width=\"1\" /><rect x=\"10.0\" y=\"5.0\" width=\"65.9647265625\" height=\"40\" stroke=\"black\" fill=\"white\" stroke-width=\"0\" /><text x=\"42.98236328125\" y=\"25.0\" dominant-baseline=\"middle\" text-anchor=\"middle\" font-size=\"14px\" font-family=\"Arial\">0 (d=3): </text><rect x=\"10.0\" y=\"55.0\" width=\"65.9647265625\" height=\"40\" stroke=\"black\" fill=\"white\" stroke-width=\"0\" /><text x=\"42.98236328125\" y=\"75.0\" dominant-baseline=\"middle\" text-anchor=\"middle\" font-size=\"14px\" font-family=\"Arial\">1 (d=3): </text><rect x=\"10.0\" y=\"105.0\" width=\"65.9647265625\" height=\"40\" stroke=\"black\" fill=\"white\" stroke-width=\"0\" /><text x=\"42.98236328125\" y=\"125.0\" dominant-baseline=\"middle\" text-anchor=\"middle\" font-size=\"14px\" font-family=\"Arial\">2 (d=3): </text><rect x=\"10.0\" y=\"155.0\" width=\"65.9647265625\" height=\"40\" stroke=\"black\" fill=\"white\" stroke-width=\"0\" /><text x=\"42.98236328125\" y=\"175.0\" dominant-baseline=\"middle\" text-anchor=\"middle\" font-size=\"14px\" font-family=\"Arial\">3 (d=3): </text><rect x=\"95.9647265625\" y=\"5.0\" width=\"128.35796875\" height=\"40\" stroke=\"black\" fill=\"white\" stroke-width=\"1\" /><text x=\"160.1437109375\" y=\"25.0\" dominant-baseline=\"middle\" text-anchor=\"middle\" font-size=\"14px\" font-family=\"Arial\">R₀¹(1.231, 1.571)</text><rect x=\"95.9647265625\" y=\"55.0\" width=\"128.35796875\" height=\"40\" stroke=\"black\" fill=\"white\" stroke-width=\"1\" /><text x=\"160.1437109375\" y=\"75.0\" dominant-baseline=\"middle\" text-anchor=\"middle\" font-size=\"14px\" font-family=\"Arial\">R₀¹(1.231, 1.571)</text><rect x=\"95.9647265625\" y=\"105.0\" width=\"128.35796875\" height=\"40\" stroke=\"black\" fill=\"white\" stroke-width=\"1\" /><text x=\"160.1437109375\" y=\"125.0\" dominant-baseline=\"middle\" text-anchor=\"middle\" font-size=\"14px\" font-family=\"Arial\">R₀¹(1.231, 1.571)</text><rect x=\"95.9647265625\" y=\"155.0\" width=\"128.35796875\" height=\"40\" stroke=\"black\" fill=\"white\" stroke-width=\"1\" /><text x=\"160.1437109375\" y=\"175.0\" dominant-baseline=\"middle\" text-anchor=\"middle\" font-size=\"14px\" font-family=\"Arial\">R₀¹(1.231, 1.571)</text><rect x=\"244.32269531249997\" y=\"5.0\" width=\"128.35796875\" height=\"40\" stroke=\"black\" fill=\"white\" stroke-width=\"1\" /><text x=\"308.5016796875\" y=\"25.0\" dominant-baseline=\"middle\" text-anchor=\"middle\" font-size=\"14px\" font-family=\"Arial\">R₀²(1.571, 1.571)</text><rect x=\"244.32269531249997\" y=\"55.0\" width=\"128.35796875\" height=\"40\" stroke=\"black\" fill=\"white\" stroke-width=\"1\" /><text x=\"308.5016796875\" y=\"75.0\" dominant-baseline=\"middle\" text-anchor=\"middle\" font-size=\"14px\" font-family=\"Arial\">R₀²(1.571, 1.571)</text><rect x=\"244.32269531249997\" y=\"105.0\" width=\"128.35796875\" height=\"40\" stroke=\"black\" fill=\"white\" stroke-width=\"1\" /><text x=\"308.5016796875\" y=\"125.0\" dominant-baseline=\"middle\" text-anchor=\"middle\" font-size=\"14px\" font-family=\"Arial\">R₀²(1.571, 1.571)</text><rect x=\"244.32269531249997\" y=\"155.0\" width=\"128.35796875\" height=\"40\" stroke=\"black\" fill=\"white\" stroke-width=\"1\" /><text x=\"308.5016796875\" y=\"175.0\" dominant-baseline=\"middle\" text-anchor=\"middle\" font-size=\"14px\" font-family=\"Arial\">R₀²(1.571, 1.571)</text></svg>"
          },
          "metadata": {},
          "execution_count": 199
        }
      ],
      "source": [
        "gamma1 = 2\n",
        "beta1 = 3\n",
        "\n",
        "pars = ()\n",
        "\n",
        "\n",
        "qc = qaoa_circuit(pars, ising_interacions)\n",
        "\n",
        "sim = cirq.Simulator()\n",
        "state_vector_out = sim.simulate(qc).final_state_vector\n",
        "\n",
        "SVGCircuit(qc)"
      ]
    },
    {
      "cell_type": "markdown",
      "metadata": {
        "id": "rVFMi6pL3GfO"
      },
      "source": [
        "###Objective calculation"
      ]
    },
    {
      "cell_type": "markdown",
      "metadata": {
        "id": "qhzDaSbRzjVU"
      },
      "source": [
        "Доходности всех тернарных портфелей"
      ]
    },
    {
      "cell_type": "code",
      "execution_count": 200,
      "metadata": {
        "id": "X5EWg3-szajl"
      },
      "outputs": [],
      "source": [
        "markovitz_values = []\n",
        "C = 1 # параметр модели марковица\n",
        "\n",
        "for s in ternary_portfolio:\n",
        "    profit_amount = np.matmul(R.values,s)\n",
        "    risk_amount = np.matmul(np.matmul(s,cov.values),s)\n",
        "    markovitz_values.append(risk_amount * C - profit_amount)"
      ]
    },
    {
      "cell_type": "markdown",
      "metadata": {
        "id": "hgUmwQ_ZlKyb"
      },
      "source": [
        "Objective calculation from final state vector"
      ]
    },
    {
      "cell_type": "code",
      "execution_count": 201,
      "metadata": {
        "id": "Pj1vp-5Q2AXI",
        "colab": {
          "base_uri": "https://localhost:8080/"
        },
        "outputId": "94e2bc27-6f2a-4e93-98e9-d04086079f93"
      },
      "outputs": [
        {
          "output_type": "execute_result",
          "data": {
            "text/plain": [
              "0.0018806668729267222"
            ]
          },
          "metadata": {},
          "execution_count": 201
        }
      ],
      "source": [
        "def objective_function(parameters, objective_values=markovitz_values, ising_interacions=ising_interacions, noise_activated=False):\n",
        "   \n",
        "    qc = qaoa_circuit(parameters, ising_interacions, noise_activated)\n",
        "\n",
        "    if not noise_activated:\n",
        "        sim = cirq.Simulator()\n",
        "        state_vector_out = sim.simulate(qc).final_state_vector\n",
        "        probabilities = (np.abs(state_vector_out) ** 2).real\n",
        "\n",
        "    else:\n",
        "        sim = cirq.DensityMatrixSimulator()\n",
        "        density_matrix_out = sim.simulate(qc).final_density_matrix\n",
        "        probabilities = (np.diagonal(density_matrix_out)).real\n",
        "\n",
        "    energy = np.sum(probabilities * objective_values)\n",
        "    return energy\n",
        "\n",
        "\n",
        "pars = np.array([1, 2, 3, 4]) * 10000\n",
        "objective_function(pars)"
      ]
    },
    {
      "cell_type": "markdown",
      "metadata": {
        "id": "GmQZQyrApGmM"
      },
      "source": [
        "#Sample hamiltonians"
      ]
    },
    {
      "cell_type": "markdown",
      "metadata": {
        "id": "2fCVxGgXKYM7"
      },
      "source": [
        "### H =  z1 + z2"
      ]
    },
    {
      "cell_type": "code",
      "execution_count": 202,
      "metadata": {
        "id": "2661a33Q8BCQ",
        "colab": {
          "base_uri": "https://localhost:8080/"
        },
        "outputId": "13ea195d-42ed-4286-fcb6-510f68da25f7"
      },
      "outputs": [
        {
          "output_type": "stream",
          "name": "stdout",
          "text": [
            "0 1 -1 1 2 0 -1 0 -2 0 1 -1 1 2 0 -1 0 -2 0 1 -1 1 2 0 -1 0 -2 0 1 -1 1 2 0 -1 0 -2 0 1 -1 1 2 0 -1 0 -2 0 1 -1 1 2 0 -1 0 -2 0 1 -1 1 2 0 -1 0 -2 0 1 -1 1 2 0 -1 0 -2 0 1 -1 1 2 0 -1 0 -2\n"
          ]
        }
      ],
      "source": [
        "sum_en_values = []\n",
        "\n",
        "for s in ternary_portfolio:\n",
        "    a = (s[2] + 2) % 3 - 1\n",
        "    b = (s[3] + 2) % 3 - 1\n",
        "    sum_en_values.append(a + b)\n",
        "\n",
        "print(*sum_en_values)"
      ]
    },
    {
      "cell_type": "code",
      "execution_count": 203,
      "metadata": {
        "id": "ytTP-MXTHUtJ",
        "colab": {
          "base_uri": "https://localhost:8080/"
        },
        "outputId": "6a2820c1-8bed-4875-93a5-43dd5725ca31"
      },
      "outputs": [
        {
          "output_type": "execute_result",
          "data": {
            "text/plain": [
              "{'single': {0: 1, 1: 1}, 'squared_single': {}, 'mix': {}}"
            ]
          },
          "metadata": {},
          "execution_count": 203
        }
      ],
      "source": [
        "ising_string = '1z0 + 1z1'\n",
        "ising_interactions = parse_ising_string(ising_string)\n",
        "ising_interactions "
      ]
    },
    {
      "cell_type": "code",
      "execution_count": 204,
      "metadata": {
        "id": "FvueEWaFHksR"
      },
      "outputs": [],
      "source": [
        "obj_vals = sum_en_values\n",
        "ising_interacions = ising_interacions \n",
        "\n",
        "x0 = np.random.randint(10000, 100000, size=4)"
      ]
    },
    {
      "cell_type": "code",
      "execution_count": 207,
      "metadata": {
        "id": "rP_MHolcqybq"
      },
      "outputs": [],
      "source": [
        "obj_list = []\n",
        "\n",
        "global_method = 'COBYLA'\n",
        "\n",
        "def callback_tracker(xi):\n",
        "    obj_value = objective_function(xi, objective_values=sum_en_values, ising_interacions=ising_interactions, noise_activated=False)\n",
        "    obj_list.append(obj_value)\n",
        "\n",
        "res = minimize(objective_function, x0, args=(sum_en_values, ising_interacions, False), method=global_method, callback=callback_tracker, options={'maxiter':40})"
      ]
    },
    {
      "cell_type": "code",
      "execution_count": 208,
      "metadata": {
        "id": "J8scUckUtaDv"
      },
      "outputs": [],
      "source": [
        "obj_list_noise = []\n",
        "\n",
        "def callback_tracker(xi):\n",
        "    obj_value = objective_function(xi, objective_values=sum_en_values, ising_interacions=ising_interactions, noise_activated=True)\n",
        "    obj_list_noise.append(obj_value)\n",
        "    \n",
        "res2 = minimize(objective_function, x0, args=(sum_en_values, ising_interacions, True), method=global_method, callback=callback_tracker, options={'maxiter':40})"
      ]
    },
    {
      "cell_type": "code",
      "execution_count": 209,
      "metadata": {
        "id": "2tPQ-revrxI_",
        "colab": {
          "base_uri": "https://localhost:8080/",
          "height": 663
        },
        "outputId": "aef7affb-d4d8-4112-acf8-53fcf6927882"
      },
      "outputs": [
        {
          "output_type": "display_data",
          "data": {
            "text/plain": [
              "<Figure size 1500x700 with 1 Axes>"
            ],
            "image/png": "[encoded data removed]"
          },
          "metadata": {}
        }
      ],
      "source": [
        "plt.figure(figsize=(15, 7))\n",
        "plt.title(f\"QAOA progress for hamiltonian H = {ising_string}\", fontsize=20)\n",
        "\n",
        "x = list(range(len(obj_list)))\n",
        "plt.plot(x, obj_list, label=f'QAOA ideal. E_min = {round(res.fun, 5)}')\n",
        "\n",
        "x2 = list(range(len(obj_list_noise)))\n",
        "plt.plot(x2, obj_list_noise , label=f'QAOA noisy. E_min = {round(res2.fun, 5)}')\n",
        "\n",
        "plt.axhline(y=np.min(sum_en_values), color='g', linestyle='--', label=f'True E_min= {round(np.min(sum_en_values), 5)}')\n",
        "\n",
        "plt.grid()\n",
        "plt.xlabel(\"Iterations\", fontsize=20)\n",
        "plt.ylabel(\"Objective\", fontsize=20)\n",
        "plt.legend(fontsize=20, loc='upper right')\n",
        "\n",
        "\n",
        "plt.show()"
      ]
    },
    {
      "cell_type": "markdown",
      "metadata": {
        "id": "MOiESstYKck8"
      },
      "source": [
        "### H = - (z1 + z2)"
      ]
    },
    {
      "cell_type": "code",
      "execution_count": null,
      "metadata": {
        "id": "5O1qawDpKck9"
      },
      "outputs": [],
      "source": [
        "sum_en_values = []\n",
        "\n",
        "for s in ternary_portfolio:\n",
        "    a = (s[2] + 2) % 3 - 1\n",
        "    b = (s[3] + 2) % 3 - 1\n",
        "    sum_en_values.append(-a - b)\n",
        "\n",
        "print(*sum_en_values)"
      ]
    },
    {
      "cell_type": "code",
      "execution_count": null,
      "metadata": {
        "id": "uYAFOCtOKck-"
      },
      "outputs": [],
      "source": [
        "ising_string = '-1z0 + -1z1'\n",
        "ising_interacions = parse_ising_string(ising_string)\n",
        "ising_interacions "
      ]
    },
    {
      "cell_type": "code",
      "execution_count": null,
      "metadata": {
        "id": "17glPmuJKck-"
      },
      "outputs": [],
      "source": [
        "obj_vals = sum_en_values\n",
        "ising_interacions = ising_interacions \n",
        "\n",
        "x0 = np.random.randint(10000, 100000, size=4)"
      ]
    },
    {
      "cell_type": "code",
      "execution_count": null,
      "metadata": {
        "id": "x2D8jqISKck_"
      },
      "outputs": [],
      "source": [
        "obj_list = []\n",
        "\n",
        "def callback_tracker(xi):\n",
        "    obj_value = objective_function(xi, objective_values=sum_en_values)\n",
        "    obj_list.append(obj_value)\n",
        "\n",
        "res = minimize(objective_function, x0, args=(sum_en_values, ising_interacions, False), method=global_method, callback=callback_tracker, options={'maxiter':40})"
      ]
    },
    {
      "cell_type": "code",
      "execution_count": null,
      "metadata": {
        "id": "1-OB3VGJKck_"
      },
      "outputs": [],
      "source": [
        "obj_list_noise = []\n",
        "\n",
        "def callback_tracker(xi):\n",
        "    obj_value = objective_function(xi, objective_values=sum_en_values, noise_activated=True)\n",
        "    obj_list_noise.append(obj_value)\n",
        "    \n",
        "res2 = minimize(objective_function, x0, args=(sum_en_values, ising_interacions, True), method=global_method, callback=callback_tracker, options={'maxiter':40})"
      ]
    },
    {
      "cell_type": "code",
      "execution_count": null,
      "metadata": {
        "id": "NxuhfF00KclA"
      },
      "outputs": [],
      "source": [
        "plt.figure(figsize=(15, 7))\n",
        "plt.title(f\"QAOA progress for hamiltonian H = {ising_string}\", fontsize=20)\n",
        "\n",
        "x = list(range(len(obj_list)))\n",
        "plt.plot(x, obj_list, label=f'QAOA ideal. E_min = {round(res.fun, 5)}')\n",
        "\n",
        "x2 = list(range(len(obj_list_noise)))\n",
        "plt.plot(x2, obj_list_noise , label=f'QAOA noisy. E_min = {round(res2.fun, 5)}')\n",
        "\n",
        "plt.axhline(y=np.min(sum_en_values), color='g', linestyle='--', label=f'True E_min= {round(np.min(sum_en_values), 5)}')\n",
        "\n",
        "plt.grid()\n",
        "plt.xlabel(\"Iterations\", fontsize=20)\n",
        "plt.ylabel(\"Objective\", fontsize=20)\n",
        "plt.legend(fontsize=20, loc='upper right')\n",
        "\n",
        "\n",
        "plt.show()"
      ]
    },
    {
      "cell_type": "markdown",
      "metadata": {
        "id": "801K47BPNZ2H"
      },
      "source": [
        "## Layer dependency"
      ]
    },
    {
      "cell_type": "code",
      "execution_count": null,
      "metadata": {
        "id": "coCM-7lsPAUt"
      },
      "outputs": [],
      "source": [
        "ising_string = '1z1^2 + 2z1z2 + 1z2^2'\n",
        "ising_interacions = parse_ising_string(ising_string)\n",
        "ising_interacions "
      ]
    },
    {
      "cell_type": "code",
      "execution_count": null,
      "metadata": {
        "id": "EshANtZ1PAuN"
      },
      "outputs": [],
      "source": [
        "sample3_ham_values = []\n",
        "\n",
        "for s in ternary_portfolio:\n",
        "    z1 = (s[1] + 2) % 3 - 1\n",
        "    z2 = (s[2] + 2) % 3 - 1\n",
        "    sample3_ham_values.append(z1 ** 2 + 2 * z1 * z2 + z2 ** 2)\n",
        "\n",
        "print(*sample3_ham_values)"
      ]
    },
    {
      "cell_type": "code",
      "execution_count": null,
      "metadata": {
        "id": "brf3-JcaNnSi"
      },
      "outputs": [],
      "source": [
        "obj_vals = sample3_ham_values\n",
        "ising_interacions = ising_interacions \n",
        "\n",
        "x0 = np.random.randint(10000, 100000, size=2)"
      ]
    },
    {
      "cell_type": "code",
      "execution_count": null,
      "metadata": {
        "id": "r_pTtA8UR0zF"
      },
      "outputs": [],
      "source": [
        "qc = qaoa_circuit(pars, ising_interacions, noise_activated)\n",
        "SVGCircuit(qc)"
      ]
    },
    {
      "cell_type": "code",
      "execution_count": null,
      "metadata": {
        "id": "XDTrru_ENdB_"
      },
      "outputs": [],
      "source": [
        "qaoa_results_ideal = dict()\n",
        "qaoa_results_noisy = dict()\n",
        "\n",
        "x0 = np.random.randint(30000, 100000, size=2)\n",
        "\n",
        "best_pars = []\n",
        "best_pars2 = []\n",
        "\n",
        "for layer_number in range(1, 9, 1):\n",
        "\n",
        "    print(f'Layer = {layer_number}')\n",
        "\n",
        "    if len(best_pars) >  0:\n",
        "        x0 = np.concatenate((best_pars, [0, 0]))\n",
        "        print(x0)\n",
        "\n",
        "    res = minimize(objective_function, x0, args=(obj_vals, ising_interacions, False), method=global_method, options={'maxiter':40})\n",
        "\n",
        "    if len(best_pars2) >  0:\n",
        "        x0 = np.concatenate((best_pars2, [0, 0]))\n",
        "        print(x0)\n",
        "\n",
        "    res2 = minimize(objective_function, x0, args=(obj_vals, ising_interacions, True), method=global_method, options={'maxiter':40})\n",
        "\n",
        "    best_pars = res.x\n",
        "    best_pars2 = res2.x\n",
        "\n",
        "    qaoa_results_ideal[layer_number] = res.fun\n",
        "    qaoa_results_noisy[layer_number] = res2.fun"
      ]
    },
    {
      "cell_type": "code",
      "execution_count": null,
      "metadata": {
        "id": "Rlo9kJv8NcC_"
      },
      "outputs": [],
      "source": [
        "plt.figure(figsize=(15, 7))\n",
        "plt.title(f\"Layer dependency {ising_string}\", fontsize=30)\n",
        "\n",
        "lists = qaoa_results_ideal.items()\n",
        "x, y = zip(*lists)\n",
        "plt.plot(x, y, label=f'QAOA ideal. E_min = {round(res.fun, 5)}')\n",
        "\n",
        "\n",
        "lists = qaoa_results_noisy.items()\n",
        "x, y = zip(*lists)\n",
        "plt.plot(x, y, label=f'QAOA noisy. E_min = {round(res2.fun, 5)}')\n",
        "\n",
        "plt.grid()\n",
        "plt.xlabel(\"Layers\", fontsize=20)\n",
        "plt.ylabel(\"Objective\", fontsize=20)\n",
        "plt.legend(fontsize=10, loc='upper right')\n",
        "\n",
        "plt.axhline(y=np.min(obj_vals), color='g', linestyle='--', label=f'True E_min= {round(np.min(sum_en_values), 5)}')\n",
        "\n",
        "plt.show()"
      ]
    },
    {
      "cell_type": "markdown",
      "metadata": {
        "id": "TMEwDKXi2X4s"
      },
      "source": [
        "# Quantum financial optimization"
      ]
    },
    {
      "cell_type": "code",
      "execution_count": 210,
      "metadata": {
        "id": "ttQAyVUy8b2q",
        "colab": {
          "base_uri": "https://localhost:8080/"
        },
        "outputId": "24ced283-6aaa-45bf-b970-caec853af9a9"
      },
      "outputs": [
        {
          "output_type": "execute_result",
          "data": {
            "text/plain": [
              "{'single': {0: 0.0002584869251870288,\n",
              "  1: 0.00045722130252312374,\n",
              "  2: -0.0010795237356905065,\n",
              "  3: 7.554428197050979e-05},\n",
              " 'squared_single': {},\n",
              " 'mix': {(0, 1): 7.82997263359884e-05,\n",
              "  (0, 2): 0.0004196128522277875,\n",
              "  (0, 3): 0.0002311426572143922,\n",
              "  (1, 2): 6.562488356903065e-05,\n",
              "  (1, 3): 0.00010202003834942264,\n",
              "  (2, 3): 0.00027442324058206635}}"
            ]
          },
          "metadata": {},
          "execution_count": 210
        }
      ],
      "source": [
        "financial_interactions = {'single': {}, 'squared_single':{}, 'mix': {}}\n",
        "\n",
        "for i in range(len(R)):\n",
        "    financial_interactions['single'][i] = R[i]\n",
        "\n",
        "for i in range(len(cov)):\n",
        "    for j in range(i + 1, len(cov)):\n",
        "        financial_interactions['mix'][(i, j)] = cov_matrix[i][j]\n",
        "\n",
        "financial_interactions"
      ]
    },
    {
      "cell_type": "code",
      "execution_count": 211,
      "metadata": {
        "id": "3jE5tXrMGzaY"
      },
      "outputs": [],
      "source": [
        "obj_vals = markovitz_values\n",
        "ising_interacions = financial_interactions"
      ]
    },
    {
      "cell_type": "markdown",
      "source": [
        "###Custom blackbox optimization technique\n"
      ],
      "metadata": {
        "id": "j5QPfr7rs0E6"
      }
    },
    {
      "cell_type": "code",
      "source": [
        "import multiprocessing as mp\n",
        "import numpy as np\n",
        "import scipy.optimize as op\n",
        "import logging\n",
        "from typing import Callable\n",
        "\n",
        "\n",
        "logging.basicConfig(\n",
        "    format=\"%(levelname)-8s %(message)s %(asctime)s\", datefmt=\"%m-%d %H:%M:%S\"\n",
        ")\n",
        "logger = logging.getLogger(\"blackbox\")\n",
        "logger.setLevel(logging.INFO)\n",
        "\n",
        "\n",
        "def minimize(\n",
        "    f: Callable,\n",
        "    domain: list,\n",
        "    budget: int,\n",
        "    batch: int,\n",
        "    rho0: float = 0.5,\n",
        "    p: float = 1.0,\n",
        "    executor: Callable = mp.Pool,\n",
        ") -> dict:\n",
        "    \"\"\"Minimize given expensive black-box function\n",
        "    Args:\n",
        "        f (Callable): objective function to be minimized\n",
        "        domain (list): ranges for each parameter\n",
        "        budget (int): total number of function calls available\n",
        "        batch (int): number of function calls evaluated simultaneously (in parallel)\n",
        "        rho0 (float, optional): initial \"balls density\". Defaults to 0.5\n",
        "        p (float, optional): rate of \"balls density\" decay (p=1 - linear, p>1 - faster, 0<p<1 - slower). Defaults to 1.0\n",
        "        executor (Callable, optional): should have a map method and behave as a context manager. Defaults to mp.Pool\n",
        "    Returns:\n",
        "        dict: a dictionary with results. Contains the following keys:\n",
        "        \"best_x\": best solution\n",
        "        \"best_f\": corresponding best function value\n",
        "        \"all_xs\": all points that were evaluated\n",
        "        \"all_fs\": all corresponding function values\n",
        "    \"\"\"\n",
        "    # space size\n",
        "    d = len(domain)\n",
        "\n",
        "    # adjusting the budget to the batch size\n",
        "    if budget % batch != 0:\n",
        "        budget = budget - budget % batch + batch\n",
        "        logger.info(f\"budget was adjusted to be {budget}\")\n",
        "\n",
        "    # default global-vs-local assumption (50-50)\n",
        "    n = budget // 2\n",
        "    if n % batch != 0:\n",
        "        n = n - n % batch + batch\n",
        "    m = budget - n\n",
        "\n",
        "    # n has to be greater than d\n",
        "    if n <= d:\n",
        "        logger.error(\"budget is not sufficient\")\n",
        "        return\n",
        "\n",
        "    # go from normalized values (unit cube) to absolute values (box)\n",
        "    def cubetobox(x):\n",
        "        return [domain[i][0] + (domain[i][1] - domain[i][0]) * x[i] for i in range(d)]\n",
        "\n",
        "    # generating R-sequence\n",
        "    points = np.zeros((n, d + 1))\n",
        "    points[:, 0:-1] = build_rseq(n, d)\n",
        "\n",
        "    # initial sampling\n",
        "    for i in range(n // batch):\n",
        "        logger.info(\n",
        "            f\"evaluating batch {i+1}/{(n+m)//batch} (samples {i*batch+1}..{(i+1)*batch}/{n+m})\"\n",
        "        )\n",
        "\n",
        "        with executor() as e:\n",
        "            points[batch * i : batch * (i + 1), -1] = list(\n",
        "                e.map(\n",
        "                    f, list(map(cubetobox, points[batch * i : batch * (i + 1), 0:-1]))\n",
        "                )\n",
        "            )\n",
        "\n",
        "    # normalizing function values\n",
        "    fmax = max(abs(points[:, -1]))\n",
        "    points[:, -1] = points[:, -1] / fmax\n",
        "\n",
        "    v1 = compute_volume_unit_ball(d)\n",
        "\n",
        "    # subsequent iterations (current subsequent iteration = i*batch+j)\n",
        "    for i in range(m // batch):\n",
        "        logger.info(\n",
        "            f\"evaluating batch {n//batch+i+1}/{(n+m)//batch} (samples {n+i*batch+1}..{n+(i+1)*batch}/{n+m})\"\n",
        "        )\n",
        "\n",
        "        # sampling next batch of points\n",
        "        fit = build_rbf(points)\n",
        "        points = np.append(points, np.zeros((batch, d + 1)), axis=0)\n",
        "\n",
        "        for j in range(batch):\n",
        "            r = (\n",
        "                (rho0 * ((m - 1.0 - (i * batch + j)) / (m - 1.0)) ** p)\n",
        "                / (v1 * (n + i * batch + j))\n",
        "            ) ** (1.0 / d)\n",
        "            constraints = [\n",
        "                {\n",
        "                    \"type\": \"ineq\",\n",
        "                    \"fun\": lambda x, localk=k: np.linalg.norm(\n",
        "                        np.subtract(x, points[localk, 0:-1])\n",
        "                    )\n",
        "                    - r,\n",
        "                }\n",
        "                for k in range(n + i * batch + j)\n",
        "            ]\n",
        "            while True:\n",
        "                minfit = op.minimize(\n",
        "                    fit,\n",
        "                    np.random.rand(d),\n",
        "                    method=\"SLSQP\",\n",
        "                    bounds=[[0.0, 1.0]] * d,\n",
        "                    constraints=constraints,\n",
        "                )\n",
        "                if np.isnan(minfit.x)[0] == False:\n",
        "                    break\n",
        "            points[n + i * batch + j, 0:-1] = np.copy(minfit.x)\n",
        "\n",
        "        with executor() as e:\n",
        "            points[n + batch * i : n + batch * (i + 1), -1] = (\n",
        "                list(\n",
        "                    e.map(\n",
        "                        f,\n",
        "                        list(\n",
        "                            map(\n",
        "                                cubetobox,\n",
        "                                points[n + batch * i : n + batch * (i + 1), 0:-1],\n",
        "                            )\n",
        "                        ),\n",
        "                    )\n",
        "                )\n",
        "                / fmax\n",
        "            )\n",
        "\n",
        "    # rescaling result\n",
        "    points[:, 0:-1] = list(map(cubetobox, points[:, 0:-1]))\n",
        "    points[:, -1] = points[:, -1] * fmax\n",
        "\n",
        "    logger.info(\"DONE\")\n",
        "\n",
        "    return {\n",
        "        \"best_x\": points[points[:, -1].argsort()][0, :-1],\n",
        "        \"best_f\": points[points[:, -1].argsort()][0, -1],\n",
        "        \"all_xs\": points[:, :-1],\n",
        "        \"all_fs\": points[:, -1],\n",
        "    }\n",
        "\n",
        "\n",
        "def compute_volume_unit_ball(d: int) -> float:\n",
        "    \"\"\"computes volume of d-dimentional ball (r=1)\n",
        "    Args:\n",
        "        d (int): space dimension\n",
        "    Returns:\n",
        "        float: volume\n",
        "    \"\"\"\n",
        "    if d % 2 == 0:\n",
        "        v1 = np.pi ** (d / 2) / np.math.factorial(int(d / 2))\n",
        "    else:\n",
        "        v1 = (\n",
        "            2\n",
        "            * (4 * np.pi) ** ((d - 1) / 2)\n",
        "            * np.math.factorial(int(d - 1) / 2)\n",
        "            / np.math.factorial(int(d))\n",
        "        )\n",
        "    return v1\n",
        "\n",
        "\n",
        "def build_rseq(n: int, d: int) -> np.ndarray:\n",
        "    \"\"\"build R-sequence (array of points uniformly placed in d-dimensional unit cube):\n",
        "    http://extremelearning.com.au/unreasonable-effectiveness-of-quasirandom-sequences/\n",
        "    Args:\n",
        "        n (int): number of points\n",
        "        d (int): space dimention\n",
        "    Returns:\n",
        "        np.ndarray: R-sequence\n",
        "    \"\"\"\n",
        "    phi = 2\n",
        "    for i in range(10):\n",
        "        phi = pow(1 + phi, 1.0 / (d + 1))\n",
        "\n",
        "    alpha = np.array([pow(1.0 / phi, i + 1) for i in range(d)])\n",
        "    rseq = np.array([(0.5 + alpha * (i + 1)) % 1 for i in range(n)])\n",
        "\n",
        "    return rseq\n",
        "\n",
        "\n",
        "def build_rbf(points: np.ndarray) -> Callable:\n",
        "    \"\"\"build RBF-fit for given points (see Holmstrom, 2008 for details)\n",
        "    Args:\n",
        "        points (np.ndarray): array of multi-d points with corresponding values\n",
        "        [[x1, x2, .., xd, val], ...]\n",
        "    Returns:\n",
        "        Callable: constructed fit\n",
        "    \"\"\"\n",
        "    n = len(points)\n",
        "    d = len(points[0]) - 1\n",
        "\n",
        "    def basis(r):\n",
        "        return r * r * r\n",
        "\n",
        "    phi = [\n",
        "        [\n",
        "            basis(np.linalg.norm(np.subtract(points[i, 0:-1], points[j, 0:-1])))\n",
        "            for j in range(n)\n",
        "        ]\n",
        "        for i in range(n)\n",
        "    ]\n",
        "\n",
        "    p = np.ones((n, d + 1))\n",
        "    p[:, 0:-1] = points[:, 0:-1]\n",
        "\n",
        "    f = points[:, -1]\n",
        "\n",
        "    m = np.zeros((n + d + 1, n + d + 1))\n",
        "    m[0:n, 0:n] = phi\n",
        "    m[0:n, n : n + d + 1] = p\n",
        "    m[n : n + d + 1, 0:n] = np.transpose(p)\n",
        "\n",
        "    v = np.zeros(n + d + 1)\n",
        "    v[0:n] = f\n",
        "\n",
        "    try:\n",
        "        sol = np.linalg.solve(m, v)\n",
        "    except:\n",
        "        # helps with singular matrices\n",
        "        logger.warning(\n",
        "            \"Singular matrix occurred during RBF-fit construction. RBF-fit might be inaccurate!\"\n",
        "        )\n",
        "        sol = np.linalg.lstsq(m, v)[0]\n",
        "\n",
        "    lam, b, a = sol[0:n], sol[n : n + d], sol[n + d]\n",
        "\n",
        "    def fit(x):\n",
        "        return (\n",
        "            sum(\n",
        "                lam[i] * basis(np.linalg.norm(np.subtract(x, points[i, 0:-1])))\n",
        "                for i in range(n)\n",
        "            )\n",
        "            + np.dot(b, x)\n",
        "            + a\n",
        "        )\n",
        "\n",
        "    return fit"
      ],
      "metadata": {
        "id": "sXdCx7Bus1lr"
      },
      "execution_count": 212,
      "outputs": []
    },
    {
      "cell_type": "markdown",
      "metadata": {
        "id": "vzFVNog--uFv"
      },
      "source": [
        "### L = 2 layer"
      ]
    },
    {
      "cell_type": "code",
      "execution_count": 213,
      "metadata": {
        "id": "bi8Vd17O8HHb",
        "colab": {
          "base_uri": "https://localhost:8080/"
        },
        "outputId": "9da2e87d-c0e1-424e-82b1-73dc7440b14b"
      },
      "outputs": [
        {
          "output_type": "stream",
          "name": "stderr",
          "text": [
            "INFO:blackbox:evaluating batch 1/50 (samples 1..2/100)\n",
            "INFO:blackbox:evaluating batch 2/50 (samples 3..4/100)\n",
            "INFO:blackbox:evaluating batch 3/50 (samples 5..6/100)\n",
            "INFO:blackbox:evaluating batch 4/50 (samples 7..8/100)\n",
            "INFO:blackbox:evaluating batch 5/50 (samples 9..10/100)\n",
            "INFO:blackbox:evaluating batch 6/50 (samples 11..12/100)\n",
            "INFO:blackbox:evaluating batch 7/50 (samples 13..14/100)\n",
            "INFO:blackbox:evaluating batch 8/50 (samples 15..16/100)\n",
            "INFO:blackbox:evaluating batch 9/50 (samples 17..18/100)\n",
            "INFO:blackbox:evaluating batch 10/50 (samples 19..20/100)\n",
            "INFO:blackbox:evaluating batch 11/50 (samples 21..22/100)\n",
            "INFO:blackbox:evaluating batch 12/50 (samples 23..24/100)\n",
            "INFO:blackbox:evaluating batch 13/50 (samples 25..26/100)\n",
            "INFO:blackbox:evaluating batch 14/50 (samples 27..28/100)\n",
            "INFO:blackbox:evaluating batch 15/50 (samples 29..30/100)\n",
            "INFO:blackbox:evaluating batch 16/50 (samples 31..32/100)\n",
            "INFO:blackbox:evaluating batch 17/50 (samples 33..34/100)\n",
            "INFO:blackbox:evaluating batch 18/50 (samples 35..36/100)\n",
            "INFO:blackbox:evaluating batch 19/50 (samples 37..38/100)\n",
            "INFO:blackbox:evaluating batch 20/50 (samples 39..40/100)\n",
            "INFO:blackbox:evaluating batch 21/50 (samples 41..42/100)\n",
            "INFO:blackbox:evaluating batch 22/50 (samples 43..44/100)\n",
            "INFO:blackbox:evaluating batch 23/50 (samples 45..46/100)\n",
            "INFO:blackbox:evaluating batch 24/50 (samples 47..48/100)\n",
            "INFO:blackbox:evaluating batch 25/50 (samples 49..50/100)\n",
            "INFO:blackbox:evaluating batch 26/50 (samples 51..52/100)\n",
            "INFO:blackbox:evaluating batch 27/50 (samples 53..54/100)\n",
            "INFO:blackbox:evaluating batch 28/50 (samples 55..56/100)\n",
            "INFO:blackbox:evaluating batch 29/50 (samples 57..58/100)\n",
            "INFO:blackbox:evaluating batch 30/50 (samples 59..60/100)\n",
            "INFO:blackbox:evaluating batch 31/50 (samples 61..62/100)\n",
            "INFO:blackbox:evaluating batch 32/50 (samples 63..64/100)\n",
            "INFO:blackbox:evaluating batch 33/50 (samples 65..66/100)\n",
            "INFO:blackbox:evaluating batch 34/50 (samples 67..68/100)\n",
            "INFO:blackbox:evaluating batch 35/50 (samples 69..70/100)\n",
            "INFO:blackbox:evaluating batch 36/50 (samples 71..72/100)\n",
            "INFO:blackbox:evaluating batch 37/50 (samples 73..74/100)\n",
            "INFO:blackbox:evaluating batch 38/50 (samples 75..76/100)\n",
            "INFO:blackbox:evaluating batch 39/50 (samples 77..78/100)\n",
            "INFO:blackbox:evaluating batch 40/50 (samples 79..80/100)\n",
            "INFO:blackbox:evaluating batch 41/50 (samples 81..82/100)\n",
            "INFO:blackbox:evaluating batch 42/50 (samples 83..84/100)\n",
            "INFO:blackbox:evaluating batch 43/50 (samples 85..86/100)\n",
            "INFO:blackbox:evaluating batch 44/50 (samples 87..88/100)\n",
            "INFO:blackbox:evaluating batch 45/50 (samples 89..90/100)\n",
            "INFO:blackbox:evaluating batch 46/50 (samples 91..92/100)\n",
            "INFO:blackbox:evaluating batch 47/50 (samples 93..94/100)\n",
            "INFO:blackbox:evaluating batch 48/50 (samples 95..96/100)\n",
            "INFO:blackbox:evaluating batch 49/50 (samples 97..98/100)\n",
            "INFO:blackbox:evaluating batch 50/50 (samples 99..100/100)\n",
            "INFO:blackbox:DONE\n"
          ]
        },
        {
          "output_type": "stream",
          "name": "stdout",
          "text": [
            "[25.38920946 -9.53537622 75.2057014  62.46134723]\n",
            "1.3092246316276193e-05\n"
          ]
        }
      ],
      "source": [
        "domain = [[-100, 100] for _ in range(4)]\n",
        "\n",
        "def obj_wrapper(x):\n",
        "    return objective_function(x, obj_vals, ising_interacions, False)\n",
        "\n",
        "result = minimize(f=obj_wrapper, domain=domain, budget=100, batch=2)\n",
        "\n",
        "# best result\n",
        "print(result[\"best_x\"])\n",
        "print(result[\"best_f\"])\n",
        "\n",
        "obj_list = result[\"all_fs\"]\n",
        "\n",
        "obj_list_noise = []"
      ]
    },
    {
      "cell_type": "code",
      "source": [
        "def obj_wrapper_noise(x):\n",
        "    return objective_function(x, obj_vals, ising_interacions, True)\n",
        "\n",
        "result_noise = minimize(f=obj_wrapper_noise, domain=domain, budget=20, batch=5)\n",
        "\n",
        "# best result\n",
        "print(result_noise[\"best_x\"])\n",
        "print(result_noise[\"best_f\"])\n",
        "\n",
        "obj_list_noise = result_noise[\"all_fs\"]"
      ],
      "metadata": {
        "id": "2bxr1-X7v-MG",
        "colab": {
          "base_uri": "https://localhost:8080/"
        },
        "outputId": "af5f2cde-5e97-4c92-9dc7-8d4854f3093f"
      },
      "execution_count": null,
      "outputs": [
        {
          "output_type": "stream",
          "name": "stderr",
          "text": [
            "INFO:blackbox:evaluating batch 1/4 (samples 1..5/20)\n",
            "INFO:blackbox:evaluating batch 2/4 (samples 6..10/20)\n",
            "INFO:blackbox:evaluating batch 3/4 (samples 11..15/20)\n",
            "INFO:blackbox:evaluating batch 4/4 (samples 16..20/20)\n"
          ]
        }
      ]
    },
    {
      "cell_type": "code",
      "execution_count": null,
      "metadata": {
        "id": "0IwIUfJK8K7r"
      },
      "outputs": [],
      "source": [
        "import matplotlib.pyplot as plt\n",
        "import matplotlib.mlab as mlab\n",
        "\n",
        "plt.figure(figsize=(15, 7))\n",
        "plt.title(\"QAOA progress\")\n",
        "\n",
        "x = list(range(len(obj_list)))\n",
        "plt.plot(x, obj_list, label=f'QAOA without noise')\n",
        "\n",
        "x2 = list(range(len(obj_list_noise)))\n",
        "plt.plot(x2, obj_list_noise , label=f'QAOA with noise')\n",
        "\n",
        "plt.axhline(y=np.min(obj_vals), color='g', linestyle='--')\n",
        "\n",
        "plt.grid()\n",
        "plt.xlabel(\"Iterations\", fontsize=20)\n",
        "plt.ylabel(\"Objective\", fontsize=20)\n",
        "plt.legend(fontsize=10, loc='upper right')\n",
        "\n",
        "\n",
        "plt.show()"
      ]
    },
    {
      "cell_type": "markdown",
      "metadata": {
        "id": "OaDhhCA7-yGA"
      },
      "source": [
        "#### Loop over layers"
      ]
    },
    {
      "cell_type": "code",
      "execution_count": null,
      "metadata": {
        "id": "_D3OSpIEfuWr"
      },
      "outputs": [],
      "source": [
        "qaoa_results_ideal = dict()\n",
        "qaoa_results_noisy = dict()\n",
        "\n",
        "x0 = np.random.randint(10000, 100000, size=2)\n",
        "\n",
        "best_pars = []\n",
        "best_pars2 = []\n",
        "\n",
        "for layer_number in range(1, 6, 1):\n",
        "\n",
        "    print(f'Layer = {layer_number}')\n",
        "\n",
        "    if len(best_pars) >  0:\n",
        "        x0 = np.concatenate((best_pars, [0, 0]))\n",
        "        print(x0)\n",
        "\n",
        "    res = minimize(objective_function, x0, args=(obj_vals, ising_interacions, False), method=global_method, options={'maxiter':40})\n",
        "\n",
        "    if len(best_pars2) >  0:\n",
        "        x0 = np.concatenate((best_pars2, [0, 0]))\n",
        "        print(x0)\n",
        "\n",
        "    res2 = minimize(objective_function, x0, args=(obj_vals, ising_interacions, True), method=global_method, options={'maxiter':40})\n",
        "\n",
        "    best_pars = res.x\n",
        "    best_pars2 = res2.x\n",
        "\n",
        "    qaoa_results_ideal[layer_number] = res.fun\n",
        "    qaoa_results_noisy[layer_number] = res2.fun"
      ]
    },
    {
      "cell_type": "code",
      "execution_count": null,
      "metadata": {
        "id": "3jNfG9M9_Vi3"
      },
      "outputs": [],
      "source": [
        "plt.figure(figsize=(15, 7))\n",
        "plt.title(\"Layer dependency finance\")\n",
        "\n",
        "lists = qaoa_results_ideal.items()\n",
        "x, y = zip(*lists)\n",
        "plt.plot(x, y, label=f'QAOA without noise')\n",
        "\n",
        "\n",
        "lists = qaoa_results_noisy.items()\n",
        "x, y = zip(*lists)\n",
        "plt.plot(x, y, label=f'QAOA with noise')\n",
        "\n",
        "plt.grid()\n",
        "plt.xlabel(\"Layers\", fontsize=20)\n",
        "plt.ylabel(\"Objective\", fontsize=20)\n",
        "plt.legend(fontsize=10, loc='upper right')\n",
        "\n",
        "plt.axhline(y=np.min(obj_vals), color='g', linestyle='--')\n",
        "\n",
        "plt.show()"
      ]
    }
  ],
  "metadata": {
    "colab": {
      "collapsed_sections": [
        "7IUKONuvApZy",
        "bmoVVgUSpH0c",
        "rVFMi6pL3GfO"
      ],
      "provenance": []
    },
    "kernelspec": {
      "display_name": "Python 3",
      "name": "python3"
    }
  },
  "nbformat": 4,
  "nbformat_minor": 0
}